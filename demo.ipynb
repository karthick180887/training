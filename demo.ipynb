{
 "cells": [
  {
   "cell_type": "code",
   "execution_count": 1,
   "id": "0894a9ff-be23-4de2-9bde-9fe0056a1b8a",
   "metadata": {},
   "outputs": [],
   "source": [
    "from pyspark.sql import SparkSession"
   ]
  },
  {
   "cell_type": "code",
   "execution_count": 2,
   "id": "35d8c9a5-5483-4a93-945b-e868e4f3c708",
   "metadata": {},
   "outputs": [
    {
     "name": "stderr",
     "output_type": "stream",
     "text": [
      "25/09/18 08:05:21 WARN SparkSession: Using an existing Spark session; only runtime SQL configurations will take effect.\n"
     ]
    }
   ],
   "source": [
    "spark = SparkSession.builder.appName(\"ETL Pipeline\").getOrCreate()"
   ]
  },
  {
   "cell_type": "code",
   "execution_count": 3,
   "id": "5dc88eb4-3a62-4d64-acd5-df32a5d45781",
   "metadata": {},
   "outputs": [],
   "source": [
    "df = spark.read.text(\"/home/iceberg/notebooks/data/WordData.txt\")"
   ]
  },
  {
   "cell_type": "code",
   "execution_count": 4,
   "id": "79635ef8-b80d-4711-b2e4-45507e24908a",
   "metadata": {},
   "outputs": [
    {
     "name": "stdout",
     "output_type": "stream",
     "text": [
      "+--------------------+\n",
      "|               value|\n",
      "+--------------------+\n",
      "|This is a Japanes...|\n",
      "|The team members ...|\n",
      "|As the years pass...|\n",
      "|If you don't like...|\n",
      "|He was disappoint...|\n",
      "|When he encounter...|\n",
      "|Situps are a terr...|\n",
      "|Toddlers feeding ...|\n",
      "|Edith could decid...|\n",
      "|Her daily goal wa...|\n",
      "|Tomorrow will bri...|\n",
      "|His son quipped t...|\n",
      "|He wondered why a...|\n",
      "|If my calculator ...|\n",
      "|The hummingbird's...|\n",
      "|He went on a whis...|\n",
      "|This is the last ...|\n",
      "|I come from a tri...|\n",
      "|The delicious aro...|\n",
      "|Weather is not tr...|\n",
      "+--------------------+\n",
      "only showing top 20 rows\n",
      "\n"
     ]
    }
   ],
   "source": [
    "df.show()"
   ]
  },
  {
   "cell_type": "code",
   "execution_count": 5,
   "id": "f0ebf8a6-f6e2-49a5-856d-3d758466437c",
   "metadata": {},
   "outputs": [
    {
     "data": {
      "text/plain": [
       "197"
      ]
     },
     "execution_count": 5,
     "metadata": {},
     "output_type": "execute_result"
    }
   ],
   "source": [
    "df.count()"
   ]
  },
  {
   "cell_type": "code",
   "execution_count": 6,
   "id": "9f1f8fbe-d316-4284-ab69-d8bbc48b3bff",
   "metadata": {},
   "outputs": [],
   "source": [
    "import pyspark.sql.functions as f\n",
    "from pyspark.sql.functions import lit,col,explode"
   ]
  },
  {
   "cell_type": "code",
   "execution_count": 7,
   "id": "caa170eb-4d5c-48af-b179-71ac0586907a",
   "metadata": {},
   "outputs": [
    {
     "name": "stdout",
     "output_type": "stream",
     "text": [
      "+--------------------+--------------------+\n",
      "|               value|         splitedData|\n",
      "+--------------------+--------------------+\n",
      "|This is a Japanes...|[This, is, a, Jap...|\n",
      "|The team members ...|[The, team, membe...|\n",
      "|As the years pass...|[As, the, years, ...|\n",
      "|If you don't like...|[If, you, don't, ...|\n",
      "|He was disappoint...|[He, was, disappo...|\n",
      "|When he encounter...|[When, he, encoun...|\n",
      "|Situps are a terr...|[Situps, are, a, ...|\n",
      "|Toddlers feeding ...|[Toddlers, feedin...|\n",
      "|Edith could decid...|[Edith, could, de...|\n",
      "|Her daily goal wa...|[Her, daily, goal...|\n",
      "|Tomorrow will bri...|[Tomorrow, will, ...|\n",
      "|His son quipped t...|[His, son, quippe...|\n",
      "|He wondered why a...|[He, wondered, wh...|\n",
      "|If my calculator ...|[If, my, calculat...|\n",
      "|The hummingbird's...|[The, hummingbird...|\n",
      "|He went on a whis...|[He, went, on, a,...|\n",
      "|This is the last ...|[This, is, the, l...|\n",
      "|I come from a tri...|[I, come, from, a...|\n",
      "|The delicious aro...|[The, delicious, ...|\n",
      "|Weather is not tr...|[Weather, is, not...|\n",
      "+--------------------+--------------------+\n",
      "only showing top 20 rows\n",
      "\n"
     ]
    }
   ],
   "source": [
    "df2 = df.withColumn(\"splitedData\", f.split(\"value\", \" \"))\n",
    "df2.show(truncate=True)"
   ]
  },
  {
   "cell_type": "code",
   "execution_count": 8,
   "id": "b23f6ea1-9708-4b79-a9e8-212905205903",
   "metadata": {},
   "outputs": [
    {
     "name": "stdout",
     "output_type": "stream",
     "text": [
      "+--------------------+\n",
      "|         splitedData|\n",
      "+--------------------+\n",
      "|[This, is, a, Jap...|\n",
      "|[The, team, membe...|\n",
      "|[As, the, years, ...|\n",
      "|[If, you, don't, ...|\n",
      "|[He, was, disappo...|\n",
      "|[When, he, encoun...|\n",
      "|[Situps, are, a, ...|\n",
      "|[Toddlers, feedin...|\n",
      "|[Edith, could, de...|\n",
      "|[Her, daily, goal...|\n",
      "|[Tomorrow, will, ...|\n",
      "|[His, son, quippe...|\n",
      "|[He, wondered, wh...|\n",
      "|[If, my, calculat...|\n",
      "|[The, hummingbird...|\n",
      "|[He, went, on, a,...|\n",
      "|[This, is, the, l...|\n",
      "|[I, come, from, a...|\n",
      "|[The, delicious, ...|\n",
      "|[Weather, is, not...|\n",
      "+--------------------+\n",
      "only showing top 20 rows\n",
      "\n"
     ]
    }
   ],
   "source": [
    "df2.select(\"splitedData\").show()"
   ]
  },
  {
   "cell_type": "code",
   "execution_count": 9,
   "id": "94ca66e5-be3e-417a-a99d-38adc453d3e8",
   "metadata": {},
   "outputs": [
    {
     "name": "stdout",
     "output_type": "stream",
     "text": [
      "+--------------------+--------------------+--------+\n",
      "|               value|         splitedData|   words|\n",
      "+--------------------+--------------------+--------+\n",
      "|This is a Japanes...|[This, is, a, Jap...|    This|\n",
      "|This is a Japanes...|[This, is, a, Jap...|      is|\n",
      "|This is a Japanes...|[This, is, a, Jap...|       a|\n",
      "|This is a Japanes...|[This, is, a, Jap...|Japanese|\n",
      "|This is a Japanes...|[This, is, a, Jap...|    doll|\n",
      "|The team members ...|[The, team, membe...|     The|\n",
      "|The team members ...|[The, team, membe...|    team|\n",
      "|The team members ...|[The, team, membe...| members|\n",
      "|The team members ...|[The, team, membe...|    were|\n",
      "|The team members ...|[The, team, membe...|    hard|\n",
      "|The team members ...|[The, team, membe...|      to|\n",
      "|The team members ...|[The, team, membe...|    tell|\n",
      "|The team members ...|[The, team, membe...|   apart|\n",
      "|The team members ...|[The, team, membe...|   since|\n",
      "|The team members ...|[The, team, membe...|    they|\n",
      "|The team members ...|[The, team, membe...|     all|\n",
      "|The team members ...|[The, team, membe...|    wore|\n",
      "|The team members ...|[The, team, membe...|   their|\n",
      "|The team members ...|[The, team, membe...|    hair|\n",
      "|The team members ...|[The, team, membe...|      in|\n",
      "+--------------------+--------------------+--------+\n",
      "only showing top 20 rows\n",
      "\n"
     ]
    }
   ],
   "source": [
    "df3 = df2.withColumn(\"words\", explode(\"splitedData\"))\n",
    "df3.show()"
   ]
  },
  {
   "cell_type": "code",
   "execution_count": 10,
   "id": "af577cdc-b5ab-4d7b-8bdc-ab33e14cf514",
   "metadata": {},
   "outputs": [
    {
     "name": "stdout",
     "output_type": "stream",
     "text": [
      "+--------+\n",
      "|   words|\n",
      "+--------+\n",
      "|    This|\n",
      "|      is|\n",
      "|       a|\n",
      "|Japanese|\n",
      "|    doll|\n",
      "|     The|\n",
      "|    team|\n",
      "| members|\n",
      "|    were|\n",
      "|    hard|\n",
      "|      to|\n",
      "|    tell|\n",
      "|   apart|\n",
      "|   since|\n",
      "|    they|\n",
      "|     all|\n",
      "|    wore|\n",
      "|   their|\n",
      "|    hair|\n",
      "|      in|\n",
      "+--------+\n",
      "only showing top 20 rows\n",
      "\n"
     ]
    }
   ],
   "source": [
    "wordsDF = df3.select(\"words\")\n",
    "wordsDF.show()"
   ]
  },
  {
   "cell_type": "code",
   "execution_count": 11,
   "id": "6eef7c4b-a6f9-444e-970b-ecc910509e99",
   "metadata": {},
   "outputs": [
    {
     "name": "stdout",
     "output_type": "stream",
     "text": [
      "+-----------+-----+\n",
      "|      words|count|\n",
      "+-----------+-----+\n",
      "|   Tomorrow|    4|\n",
      "|         If|    8|\n",
      "|      leave|    4|\n",
      "|      corny|    4|\n",
      "|        day|    4|\n",
      "|preoccupied|    4|\n",
      "|       even|    8|\n",
      "|      crazy|    4|\n",
      "|    bananas|    4|\n",
      "|     priest|    4|\n",
      "|        did|    4|\n",
      "|    whether|    4|\n",
      "|     Having|    4|\n",
      "|        I'm|    4|\n",
      "|      crime|    4|\n",
      "|  surprised|    4|\n",
      "|      James|    4|\n",
      "|      could|    8|\n",
      "|        buy|    4|\n",
      "|        him|    8|\n",
      "+-----------+-----+\n",
      "only showing top 20 rows\n",
      "\n"
     ]
    }
   ],
   "source": [
    "wordCount = wordsDF.groupBy(\"words\").count()\n",
    "wordCount.show()"
   ]
  },
  {
   "cell_type": "code",
   "execution_count": 12,
   "id": "ec0e0c7c-ec42-48d3-bffd-ca6ffc8176d3",
   "metadata": {},
   "outputs": [],
   "source": [
    "driver = \"com.mysql.cj.jdbc.Driver\"\n",
    "url = \"jdbc:mysql://karthick1808.c7i86mqiit2n.ap-south-1.rds.amazonaws.com:3306/spark\"\n",
    "table = \"wordcount\"\n",
    "user = \"karthick1808\"\n",
    "password = \"Welcome!12345\""
   ]
  },
  {
   "cell_type": "code",
   "execution_count": null,
   "id": "4af1bcf9-c9aa-4948-836c-850806b55a54",
   "metadata": {},
   "outputs": [
    {
     "name": "stderr",
     "output_type": "stream",
     "text": [
      "[Stage 13:>                                                         (0 + 1) / 1]"
     ]
    }
   ],
   "source": [
    "wordCount.write.format(\"jdbc\").option(\"driver\", driver).option(\"url\",url).option(\"dbtable\", table).option(\"mode\", \"append\").option(\"user\",user).option(\"password\", password).save()"
   ]
  },
  {
   "cell_type": "code",
   "execution_count": null,
   "id": "75ac4ccb-d766-45b1-9deb-d5d588ce8a4f",
   "metadata": {},
   "outputs": [],
   "source": []
  }
 ],
 "metadata": {
  "kernelspec": {
   "display_name": "Python 3 (ipykernel)",
   "language": "python",
   "name": "python3"
  },
  "language_info": {
   "codemirror_mode": {
    "name": "ipython",
    "version": 3
   },
   "file_extension": ".py",
   "mimetype": "text/x-python",
   "name": "python",
   "nbconvert_exporter": "python",
   "pygments_lexer": "ipython3",
   "version": "3.10.16"
  }
 },
 "nbformat": 4,
 "nbformat_minor": 5
}
