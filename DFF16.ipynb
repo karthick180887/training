{
 "cells": [
  {
   "cell_type": "code",
   "execution_count": 11,
   "id": "cb5bdfab-06de-4a65-a85e-c4c540aea635",
   "metadata": {},
   "outputs": [],
   "source": [
    "from pyspark.sql import SparkSession\n",
    "from pyspark.sql import Row"
   ]
  },
  {
   "cell_type": "code",
   "execution_count": 12,
   "id": "84afa316-8f65-4edf-85e6-0ac2e7706efd",
   "metadata": {},
   "outputs": [],
   "source": [
    "spark = SparkSession.builder \\\n",
    "    .appName(\"PivotUnpivotExample\") \\\n",
    "    .getOrCreate()"
   ]
  },
  {
   "cell_type": "code",
   "execution_count": 20,
   "id": "234598b0-1026-47fe-9323-97f9078a2d8e",
   "metadata": {},
   "outputs": [],
   "source": [
    "data = [\n",
    "    Row(name=\"Alice\",  subject=\"Math\", score=85),\n",
    "    Row(name=\"Alice\",  subject=\"English\", score=78),\n",
    "    Row(name=\"Alice\",  subject=\"Science\", score=92),\n",
    "    Row(name=\"Bob\",  subject=\"Math\", score=85),\n",
    "    Row(name=\"Bob\",  subject=\"English\", score=85),\n",
    "    Row(name=\"Bob\",  subject=\"Science\", score=85)\n",
    "]"
   ]
  },
  {
   "cell_type": "code",
   "execution_count": 21,
   "id": "83cf132f-0bf3-4257-a230-ecb7348366d0",
   "metadata": {},
   "outputs": [
    {
     "name": "stdout",
     "output_type": "stream",
     "text": [
      "<class 'list'>\n"
     ]
    }
   ],
   "source": [
    "print(type(data))"
   ]
  },
  {
   "cell_type": "code",
   "execution_count": 22,
   "id": "2f34f4b2-a74f-479d-a00a-7cb9138f3df4",
   "metadata": {},
   "outputs": [],
   "source": [
    "df = spark.createDataFrame(data)"
   ]
  },
  {
   "cell_type": "code",
   "execution_count": 23,
   "id": "c123819e-c5e7-4a64-8eee-b768e9385d50",
   "metadata": {},
   "outputs": [
    {
     "name": "stdout",
     "output_type": "stream",
     "text": [
      "+-----+-------+-----+\n",
      "| name|subject|score|\n",
      "+-----+-------+-----+\n",
      "|Alice|   Math|   85|\n",
      "|Alice|English|   78|\n",
      "|Alice|Science|   92|\n",
      "|  Bob|   Math|   85|\n",
      "|  Bob|English|   85|\n",
      "|  Bob|Science|   85|\n",
      "+-----+-------+-----+\n",
      "\n"
     ]
    }
   ],
   "source": [
    "df.show()"
   ]
  },
  {
   "cell_type": "code",
   "execution_count": 24,
   "id": "30922932-e1f6-44ba-8777-d7d153f6755f",
   "metadata": {},
   "outputs": [
    {
     "name": "stdout",
     "output_type": "stream",
     "text": [
      "root\n",
      " |-- name: string (nullable = true)\n",
      " |-- subject: string (nullable = true)\n",
      " |-- score: long (nullable = true)\n",
      "\n"
     ]
    }
   ],
   "source": [
    "df.printSchema()"
   ]
  },
  {
   "cell_type": "code",
   "execution_count": 25,
   "id": "c23908e5-e91a-4f3e-b384-f77c8033ff5a",
   "metadata": {},
   "outputs": [],
   "source": [
    "pivot_df = df.groupBy(\"name\").pivot(\"subject\").sum(\"score\")"
   ]
  },
  {
   "cell_type": "code",
   "execution_count": 26,
   "id": "0c8a1689-7ac4-44d9-8f09-d178d590a66b",
   "metadata": {},
   "outputs": [
    {
     "name": "stdout",
     "output_type": "stream",
     "text": [
      "+-----+-------+----+-------+\n",
      "| name|English|Math|Science|\n",
      "+-----+-------+----+-------+\n",
      "|  Bob|     85|  85|     85|\n",
      "|Alice|     78|  85|     92|\n",
      "+-----+-------+----+-------+\n",
      "\n"
     ]
    }
   ],
   "source": [
    "pivot_df.show()"
   ]
  },
  {
   "cell_type": "code",
   "execution_count": 27,
   "id": "ed5e4b5d-4eea-42b1-92c3-fd0d494d5fdc",
   "metadata": {},
   "outputs": [],
   "source": [
    "data = [\n",
    "    (\"Alice\", \"Math\", 85),\n",
    "    (\"Alice\", \"Math\", 15),\n",
    "    (\"Alice\", \"English\", 78),\n",
    "    (\"Alice\", \"English\", 22),\n",
    "    (\"Alice\", \"Science\", 92),\n",
    "    (\"Bob\", \"Math\", 89),\n",
    "    (\"Bob\", \"Math\", 11),\n",
    "    (\"Bob\", \"English\", 76),\n",
    "    (\"Bob\", \"Science\", 94),\n",
    "    (\"Bob\", \"Science\", 6)\n",
    "]"
   ]
  },
  {
   "cell_type": "code",
   "execution_count": 28,
   "id": "2c5b7e37-8f96-466d-8ee4-78bf4cae7eee",
   "metadata": {},
   "outputs": [
    {
     "name": "stdout",
     "output_type": "stream",
     "text": [
      "Original DataFrame:\n",
      "+-----+-------+-----+\n",
      "| name|subject|score|\n",
      "+-----+-------+-----+\n",
      "|Alice|   Math|   85|\n",
      "|Alice|   Math|   15|\n",
      "|Alice|English|   78|\n",
      "|Alice|English|   22|\n",
      "|Alice|Science|   92|\n",
      "|  Bob|   Math|   89|\n",
      "|  Bob|   Math|   11|\n",
      "|  Bob|English|   76|\n",
      "|  Bob|Science|   94|\n",
      "|  Bob|Science|    6|\n",
      "+-----+-------+-----+\n",
      "\n"
     ]
    }
   ],
   "source": [
    "df = spark.createDataFrame(data, [\"name\", \"subject\", \"score\"])\n",
    "print(\"Original DataFrame:\")\n",
    "df.show()"
   ]
  },
  {
   "cell_type": "code",
   "execution_count": 29,
   "id": "66f490db-2726-40a0-9060-80feff644356",
   "metadata": {},
   "outputs": [
    {
     "name": "stdout",
     "output_type": "stream",
     "text": [
      "After Pivot with Sum:\n",
      "+-----+-------+----+-------+\n",
      "| name|English|Math|Science|\n",
      "+-----+-------+----+-------+\n",
      "|  Bob|   76.0|50.0|   50.0|\n",
      "|Alice|   50.0|50.0|   92.0|\n",
      "+-----+-------+----+-------+\n",
      "\n"
     ]
    }
   ],
   "source": [
    "pivot_df = df.groupBy(\"name\").pivot(\"subject\").avg(\"score\")\n",
    "print(\"After Pivot with Sum:\")\n",
    "pivot_df.show()"
   ]
  },
  {
   "cell_type": "code",
   "execution_count": 30,
   "id": "6d221900-4b82-4c75-bc7d-04300e8cef19",
   "metadata": {},
   "outputs": [],
   "source": [
    "from pyspark.sql.functions import sum, avg, max, min, count, countDistinct\n",
    "pivot_df_sum = df.groupBy(\"name\").pivot(\"subject\").sum(\"score\")\n",
    "pivot_df_avg = df.groupBy(\"name\").pivot(\"subject\").avg(\"score\")\n",
    "pivot_df_max = df.groupBy(\"name\").pivot(\"subject\").max(\"score\")\n",
    "pivot_df_min = df.groupBy(\"name\").pivot(\"subject\").min(\"score\")\n",
    "pivot_df_count = df.groupBy(\"name\").pivot(\"subject\").agg(count(\"score\"))\n",
    "pivot_df_countDistinct = df.groupBy(\"name\").pivot(\"subject\").agg(countDistinct(\"score\"))"
   ]
  },
  {
   "cell_type": "code",
   "execution_count": 31,
   "id": "7c2ae8da-dc02-4ffe-a800-7f5b0deafe77",
   "metadata": {},
   "outputs": [
    {
     "name": "stdout",
     "output_type": "stream",
     "text": [
      "Pivot with Sum:\n",
      "+-----+-------+----+-------+\n",
      "| name|English|Math|Science|\n",
      "+-----+-------+----+-------+\n",
      "|  Bob|     76| 100|    100|\n",
      "|Alice|    100| 100|     92|\n",
      "+-----+-------+----+-------+\n",
      "\n",
      "Pivot with Avg:\n",
      "+-----+-------+----+-------+\n",
      "| name|English|Math|Science|\n",
      "+-----+-------+----+-------+\n",
      "|  Bob|   76.0|50.0|   50.0|\n",
      "|Alice|   50.0|50.0|   92.0|\n",
      "+-----+-------+----+-------+\n",
      "\n",
      "Pivot with Max:\n",
      "+-----+-------+----+-------+\n",
      "| name|English|Math|Science|\n",
      "+-----+-------+----+-------+\n",
      "|  Bob|     76|  89|     94|\n",
      "|Alice|     78|  85|     92|\n",
      "+-----+-------+----+-------+\n",
      "\n",
      "Pivot with Min:\n",
      "+-----+-------+----+-------+\n",
      "| name|English|Math|Science|\n",
      "+-----+-------+----+-------+\n",
      "|  Bob|     76|  11|      6|\n",
      "|Alice|     22|  15|     92|\n",
      "+-----+-------+----+-------+\n",
      "\n",
      "Pivot with Count:\n",
      "+-----+-------+----+-------+\n",
      "| name|English|Math|Science|\n",
      "+-----+-------+----+-------+\n",
      "|  Bob|      1|   2|      2|\n",
      "|Alice|      2|   2|      1|\n",
      "+-----+-------+----+-------+\n",
      "\n",
      "Pivot with CountDistinct:\n",
      "+-----+-------+----+-------+\n",
      "| name|English|Math|Science|\n",
      "+-----+-------+----+-------+\n",
      "|  Bob|      1|   2|      2|\n",
      "|Alice|      2|   2|      1|\n",
      "+-----+-------+----+-------+\n",
      "\n"
     ]
    }
   ],
   "source": [
    "print(\"Pivot with Sum:\")\n",
    "pivot_df_sum.show()\n",
    "print(\"Pivot with Avg:\")\n",
    "pivot_df_avg.show()\n",
    "print(\"Pivot with Max:\")\n",
    "pivot_df_max.show()\n",
    "print(\"Pivot with Min:\")\n",
    "pivot_df_min.show()\n",
    "print(\"Pivot with Count:\")\n",
    "pivot_df_count.show()\n",
    "print(\"Pivot with CountDistinct:\")\n",
    "pivot_df_countDistinct.show()"
   ]
  },
  {
   "cell_type": "code",
   "execution_count": 32,
   "id": "f13a15b3-139b-4945-af41-b67fbb09f9f8",
   "metadata": {},
   "outputs": [
    {
     "name": "stdout",
     "output_type": "stream",
     "text": [
      "+-----+--------+------+\n",
      "| name|Nsubject|Nscore|\n",
      "+-----+--------+------+\n",
      "|  Bob|   NMath|  50.0|\n",
      "|  Bob|NEnglish|  76.0|\n",
      "|  Bob|NScience|  50.0|\n",
      "|Alice|   NMath|  50.0|\n",
      "|Alice|NEnglish|  50.0|\n",
      "|Alice|NScience|  92.0|\n",
      "+-----+--------+------+\n",
      "\n"
     ]
    }
   ],
   "source": [
    "unpivot_df = pivot_df.selectExpr(\"name\",\"stack(3, 'NMath', Math, 'NEnglish', English, 'NScience', Science) as (Nsubject, Nscore)\")\n",
    "unpivot_df.show()"
   ]
  },
  {
   "cell_type": "code",
   "execution_count": null,
   "id": "87f50730-f856-4e6e-8f4f-e2dd38da8bf7",
   "metadata": {},
   "outputs": [],
   "source": []
  }
 ],
 "metadata": {
  "kernelspec": {
   "display_name": "Python 3 (ipykernel)",
   "language": "python",
   "name": "python3"
  },
  "language_info": {
   "codemirror_mode": {
    "name": "ipython",
    "version": 3
   },
   "file_extension": ".py",
   "mimetype": "text/x-python",
   "name": "python",
   "nbconvert_exporter": "python",
   "pygments_lexer": "ipython3",
   "version": "3.10.16"
  }
 },
 "nbformat": 4,
 "nbformat_minor": 5
}
