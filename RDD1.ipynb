{
 "cells": [
  {
   "cell_type": "code",
   "execution_count": 4,
   "id": "21d45a3d-f3be-4b70-b6df-66d4a0fc8ed7",
   "metadata": {},
   "outputs": [],
   "source": [
    "#create Driver Object\n",
    "#SparkContext - Spark Core - RDD"
   ]
  },
  {
   "cell_type": "code",
   "execution_count": 5,
   "id": "4fcae446-1cd8-4267-946d-43c7907bbada",
   "metadata": {},
   "outputs": [],
   "source": [
    "import pyspark"
   ]
  },
  {
   "cell_type": "code",
   "execution_count": 6,
   "id": "f82f62f5-f823-4971-b31a-d82042ec4b77",
   "metadata": {},
   "outputs": [],
   "source": [
    "from pyspark import SparkContext"
   ]
  },
  {
   "cell_type": "code",
   "execution_count": 7,
   "id": "103128dd-b06e-4960-b5d4-77a29c06acb4",
   "metadata": {},
   "outputs": [],
   "source": [
    "sc = SparkContext.getOrCreate()"
   ]
  },
  {
   "cell_type": "code",
   "execution_count": 8,
   "id": "cd93ed4c-9c2a-411a-bd72-b9e5606a8b20",
   "metadata": {},
   "outputs": [
    {
     "name": "stdout",
     "output_type": "stream",
     "text": [
      "<SparkContext master=local[*] appName=PySparkShell>\n"
     ]
    }
   ],
   "source": [
    "print(sc)"
   ]
  },
  {
   "cell_type": "code",
   "execution_count": 9,
   "id": "e1810f06-0129-4d2e-abd1-dc3ec6714dbc",
   "metadata": {},
   "outputs": [
    {
     "name": "stdout",
     "output_type": "stream",
     "text": [
      "<class 'pyspark.context.SparkContext'>\n"
     ]
    }
   ],
   "source": [
    "print(type(sc))"
   ]
  },
  {
   "cell_type": "code",
   "execution_count": 10,
   "id": "bf8fd795-2fd3-4374-b9f6-9e9865c1d8ac",
   "metadata": {},
   "outputs": [],
   "source": [
    "#there are 2 methods are available to create RDD"
   ]
  },
  {
   "cell_type": "code",
   "execution_count": 11,
   "id": "93976fe4-2205-4e6c-8051-61076fb12683",
   "metadata": {},
   "outputs": [],
   "source": [
    "#Parallelize\n",
    "#textFile"
   ]
  },
  {
   "cell_type": "code",
   "execution_count": 12,
   "id": "c19feac9-b89b-4246-bee3-ee4ccd15559b",
   "metadata": {},
   "outputs": [],
   "source": [
    "#if yout data is in the form of python collections(list,set,tuple,dictionary)\n",
    "#Parallelize"
   ]
  },
  {
   "cell_type": "code",
   "execution_count": 13,
   "id": "cd5bc229-7afc-40b4-8715-20e4b7bc26ac",
   "metadata": {},
   "outputs": [
    {
     "name": "stdout",
     "output_type": "stream",
     "text": [
      "[1, 2, 3, 4, 5, 6, 7, 8, 9, 10]\n",
      "<class 'list'>\n"
     ]
    }
   ],
   "source": [
    "data1 = [1,2,3,4,5,6,7,8,9,10]\n",
    "print(data1)\n",
    "print(type(data1))"
   ]
  },
  {
   "cell_type": "code",
   "execution_count": 14,
   "id": "65727a60-8519-42d1-9115-aff3b164b13e",
   "metadata": {},
   "outputs": [],
   "source": [
    "rdd1 = sc.parallelize(data1)"
   ]
  },
  {
   "cell_type": "code",
   "execution_count": 15,
   "id": "345f1b7d-2e17-44c2-bb66-04e03e715c02",
   "metadata": {},
   "outputs": [
    {
     "name": "stdout",
     "output_type": "stream",
     "text": [
      "ParallelCollectionRDD[0] at readRDDFromFile at PythonRDD.scala:289\n"
     ]
    }
   ],
   "source": [
    "print(rdd1)"
   ]
  },
  {
   "cell_type": "code",
   "execution_count": 16,
   "id": "359292e8-ea4a-4ef5-80e2-86e22d589900",
   "metadata": {},
   "outputs": [
    {
     "name": "stdout",
     "output_type": "stream",
     "text": [
      "<class 'pyspark.rdd.RDD'>\n"
     ]
    }
   ],
   "source": [
    "print(type(rdd1))"
   ]
  },
  {
   "cell_type": "code",
   "execution_count": 17,
   "id": "e62a69fb-5248-42cb-bbd7-638ad50ffafd",
   "metadata": {},
   "outputs": [
    {
     "data": {
      "text/plain": [
       "[1, 2, 3, 4, 5, 6, 7, 8, 9, 10]"
      ]
     },
     "execution_count": 17,
     "metadata": {},
     "output_type": "execute_result"
    }
   ],
   "source": [
    "rdd1.collect()"
   ]
  },
  {
   "cell_type": "code",
   "execution_count": 18,
   "id": "a2d78525-1a54-49bd-aae5-fd62d0ad869e",
   "metadata": {},
   "outputs": [],
   "source": [
    "data2 = (1,2,3,4,5,6,7,8,9,10)\n",
    "data3 = {1,2,3,4,5,6,7,8,9,10}\n",
    "data4 = {\"fname\":\"Karthick\",\"lname\":\"Selvam\",\"age\":37,\"occupation\":\"trainer\"}"
   ]
  },
  {
   "cell_type": "code",
   "execution_count": 19,
   "id": "eee68142-d959-4a7d-aa74-9fdcf336cd0c",
   "metadata": {},
   "outputs": [],
   "source": [
    "rdd2 = sc.parallelize(data2)\n",
    "rdd3 = sc.parallelize(data3)\n",
    "rdd4 = sc.parallelize(data4)"
   ]
  },
  {
   "cell_type": "code",
   "execution_count": 20,
   "id": "52c9bbf4-00be-40ba-88b7-53bad9de1c8a",
   "metadata": {},
   "outputs": [
    {
     "data": {
      "text/plain": [
       "[1, 2, 3, 4, 5, 6, 7, 8, 9, 10]"
      ]
     },
     "execution_count": 20,
     "metadata": {},
     "output_type": "execute_result"
    }
   ],
   "source": [
    "rdd2.collect()"
   ]
  },
  {
   "cell_type": "code",
   "execution_count": 21,
   "id": "7ed44d90-b7cf-4c29-9da9-03ddf8a885be",
   "metadata": {},
   "outputs": [
    {
     "data": {
      "text/plain": [
       "[1, 2, 3, 4, 5, 6, 7, 8, 9, 10]"
      ]
     },
     "execution_count": 21,
     "metadata": {},
     "output_type": "execute_result"
    }
   ],
   "source": [
    "rdd3.collect()"
   ]
  },
  {
   "cell_type": "code",
   "execution_count": 22,
   "id": "71b6abb5-c2e3-4a6f-a9d8-d70dacfd4565",
   "metadata": {},
   "outputs": [
    {
     "data": {
      "text/plain": [
       "['fname', 'lname', 'age', 'occupation']"
      ]
     },
     "execution_count": 22,
     "metadata": {},
     "output_type": "execute_result"
    }
   ],
   "source": [
    "rdd4.collect()"
   ]
  },
  {
   "cell_type": "code",
   "execution_count": null,
   "id": "6d4d07e6-8186-46ed-92bf-2e9cdefa3f11",
   "metadata": {},
   "outputs": [],
   "source": []
  }
 ],
 "metadata": {
  "kernelspec": {
   "display_name": "Python 3 (ipykernel)",
   "language": "python",
   "name": "python3"
  },
  "language_info": {
   "codemirror_mode": {
    "name": "ipython",
    "version": 3
   },
   "file_extension": ".py",
   "mimetype": "text/x-python",
   "name": "python",
   "nbconvert_exporter": "python",
   "pygments_lexer": "ipython3",
   "version": "3.10.16"
  }
 },
 "nbformat": 4,
 "nbformat_minor": 5
}
