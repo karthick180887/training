{
 "cells": [
  {
   "cell_type": "code",
   "execution_count": 1,
   "id": "148581b8-6bed-4361-8f0d-a0c7ab110851",
   "metadata": {},
   "outputs": [
    {
     "name": "stderr",
     "output_type": "stream",
     "text": [
      "25/09/16 05:21:32 WARN SparkSession: Using an existing Spark session; only runtime SQL configurations will take effect.\n"
     ]
    }
   ],
   "source": [
    "import pyspark.sql\n",
    "from pyspark.sql import SparkSession\n",
    "spark = SparkSession.builder.appName(\"Spark DataFrames\").getOrCreate()"
   ]
  },
  {
   "cell_type": "code",
   "execution_count": 2,
   "id": "45671825-5a8f-4b12-8478-aa607bc64698",
   "metadata": {},
   "outputs": [
    {
     "name": "stderr",
     "output_type": "stream",
     "text": [
      "                                                                                "
     ]
    },
    {
     "name": "stdout",
     "output_type": "stream",
     "text": [
      "+---+------+----------------+------+------+-----+--------------------+\n",
      "|age|gender|            name|course|  roll|marks|               email|\n",
      "+---+------+----------------+------+------+-----+--------------------+\n",
      "| 28|Female| Hubert Oliveras|    DB|  2984|   59|Annika Hoffman_Na...|\n",
      "| 29|Female|Toshiko Hillyard| Cloud| 12899|   62|Margene Moores_Ma...|\n",
      "| 28|  Male|  Celeste Lollis|    PF| 21267|   45|Jeannetta Golden_...|\n",
      "| 29|Female|    Elenore Choy|    DB| 32877|   29|Billi Clore_Mitzi...|\n",
      "| 28|  Male|  Sheryll Towler|   DSA| 41487|   41|Claude Panos_Judi...|\n",
      "| 28|  Male|  Margene Moores|   MVC| 52771|   32|Toshiko Hillyard_...|\n",
      "| 28|  Male|     Neda Briski|   OOP| 61973|   69|Alberta Freund_El...|\n",
      "| 28|Female|    Claude Panos| Cloud| 72409|   85|Sheryll Towler_Al...|\n",
      "| 28|  Male|  Celeste Lollis|   MVC| 81492|   64|Nicole Harwood_Cl...|\n",
      "| 29|  Male|  Cordie Harnois|   OOP| 92882|   51|Judie Chipps_Clem...|\n",
      "| 29|Female|       Kena Wild|   DSA|102285|   35|Dustin Feagins_Ma...|\n",
      "| 29|  Male| Ernest Rossbach|    DB|111449|   53|Maybell Duguay_Ab...|\n",
      "| 28|Female|  Latia Vanhoose|    DB|122502|   27|Latia Vanhoose_Mi...|\n",
      "| 29|Female|  Latia Vanhoose|   MVC|132110|   55|Eda Neathery_Nico...|\n",
      "| 29|  Male|     Neda Briski|    PF|141770|   42|Margene Moores_Mi...|\n",
      "| 29|Female|  Latia Vanhoose|    DB|152159|   27|Claude Panos_Sant...|\n",
      "| 29|  Male|  Loris Crossett|   MVC|161771|   36|Mitzi Seldon_Jenn...|\n",
      "| 29|  Male|  Annika Hoffman|   OOP|171660|   22|Taryn Brownlee_Mi...|\n",
      "| 29|  Male|   Santa Kerfien|    PF|182129|   56|Judie Chipps_Tary...|\n",
      "| 28|Female|Mickey Cortright|    DB|192537|   62|Ernest Rossbach_M...|\n",
      "+---+------+----------------+------+------+-----+--------------------+\n",
      "only showing top 20 rows\n",
      "\n"
     ]
    }
   ],
   "source": [
    "df = spark.read.options(header='True',inferSchema='True').csv(\"/home/iceberg/notebooks/Data/StudentData.csv\")\n",
    "df.show()"
   ]
  },
  {
   "cell_type": "code",
   "execution_count": 4,
   "id": "c3246696-d5a1-45db-ba23-c711028ccac7",
   "metadata": {},
   "outputs": [
    {
     "name": "stdout",
     "output_type": "stream",
     "text": [
      "root\n",
      " |-- age: integer (nullable = true)\n",
      " |-- gender: string (nullable = true)\n",
      " |-- name: string (nullable = true)\n",
      " |-- course: string (nullable = true)\n",
      " |-- roll: integer (nullable = true)\n",
      " |-- marks: integer (nullable = true)\n",
      " |-- email: string (nullable = true)\n",
      "\n"
     ]
    }
   ],
   "source": [
    "df.printSchema()"
   ]
  },
  {
   "cell_type": "code",
   "execution_count": 9,
   "id": "5fe196fb-4679-4619-b2a2-e3a0985cfe77",
   "metadata": {},
   "outputs": [
    {
     "name": "stdout",
     "output_type": "stream",
     "text": [
      "+----------------+------+\n",
      "|            NAME|Gender|\n",
      "+----------------+------+\n",
      "| Hubert Oliveras|Female|\n",
      "|Toshiko Hillyard|Female|\n",
      "|  Celeste Lollis|  Male|\n",
      "|    Elenore Choy|Female|\n",
      "|  Sheryll Towler|  Male|\n",
      "|  Margene Moores|  Male|\n",
      "|     Neda Briski|  Male|\n",
      "|    Claude Panos|Female|\n",
      "|  Celeste Lollis|  Male|\n",
      "|  Cordie Harnois|  Male|\n",
      "|       Kena Wild|Female|\n",
      "| Ernest Rossbach|  Male|\n",
      "|  Latia Vanhoose|Female|\n",
      "|  Latia Vanhoose|Female|\n",
      "|     Neda Briski|  Male|\n",
      "|  Latia Vanhoose|Female|\n",
      "|  Loris Crossett|  Male|\n",
      "|  Annika Hoffman|  Male|\n",
      "|   Santa Kerfien|  Male|\n",
      "|Mickey Cortright|Female|\n",
      "+----------------+------+\n",
      "only showing top 20 rows\n",
      "\n"
     ]
    }
   ],
   "source": [
    "df.select(\"NAME\",'Gender').show()"
   ]
  },
  {
   "cell_type": "code",
   "execution_count": 8,
   "id": "d2bfec8b-07ab-45f6-9b38-89b7873324df",
   "metadata": {},
   "outputs": [
    {
     "name": "stdout",
     "output_type": "stream",
     "text": [
      "+----------------+--------------------+\n",
      "|            name|               email|\n",
      "+----------------+--------------------+\n",
      "| Hubert Oliveras|Annika Hoffman_Na...|\n",
      "|Toshiko Hillyard|Margene Moores_Ma...|\n",
      "|  Celeste Lollis|Jeannetta Golden_...|\n",
      "|    Elenore Choy|Billi Clore_Mitzi...|\n",
      "|  Sheryll Towler|Claude Panos_Judi...|\n",
      "|  Margene Moores|Toshiko Hillyard_...|\n",
      "|     Neda Briski|Alberta Freund_El...|\n",
      "|    Claude Panos|Sheryll Towler_Al...|\n",
      "|  Celeste Lollis|Nicole Harwood_Cl...|\n",
      "|  Cordie Harnois|Judie Chipps_Clem...|\n",
      "|       Kena Wild|Dustin Feagins_Ma...|\n",
      "| Ernest Rossbach|Maybell Duguay_Ab...|\n",
      "|  Latia Vanhoose|Latia Vanhoose_Mi...|\n",
      "|  Latia Vanhoose|Eda Neathery_Nico...|\n",
      "|     Neda Briski|Margene Moores_Mi...|\n",
      "|  Latia Vanhoose|Claude Panos_Sant...|\n",
      "|  Loris Crossett|Mitzi Seldon_Jenn...|\n",
      "|  Annika Hoffman|Taryn Brownlee_Mi...|\n",
      "|   Santa Kerfien|Judie Chipps_Tary...|\n",
      "|Mickey Cortright|Ernest Rossbach_M...|\n",
      "+----------------+--------------------+\n",
      "only showing top 20 rows\n",
      "\n"
     ]
    }
   ],
   "source": [
    "df.select(df.name,df.email).show()"
   ]
  },
  {
   "cell_type": "code",
   "execution_count": 13,
   "id": "ddd58a13-e772-43cd-a3d1-4a17e82fdc05",
   "metadata": {},
   "outputs": [],
   "source": [
    "import pyspark.sql\n",
    "from pyspark.sql.functions import col"
   ]
  },
  {
   "cell_type": "code",
   "execution_count": 15,
   "id": "b5aaa417-6bd3-4fe5-a90c-d800a719a67e",
   "metadata": {},
   "outputs": [
    {
     "name": "stdout",
     "output_type": "stream",
     "text": [
      "+----------------+--------------------+\n",
      "|            NAME|               Email|\n",
      "+----------------+--------------------+\n",
      "| Hubert Oliveras|Annika Hoffman_Na...|\n",
      "|Toshiko Hillyard|Margene Moores_Ma...|\n",
      "|  Celeste Lollis|Jeannetta Golden_...|\n",
      "|    Elenore Choy|Billi Clore_Mitzi...|\n",
      "|  Sheryll Towler|Claude Panos_Judi...|\n",
      "|  Margene Moores|Toshiko Hillyard_...|\n",
      "|     Neda Briski|Alberta Freund_El...|\n",
      "|    Claude Panos|Sheryll Towler_Al...|\n",
      "|  Celeste Lollis|Nicole Harwood_Cl...|\n",
      "|  Cordie Harnois|Judie Chipps_Clem...|\n",
      "|       Kena Wild|Dustin Feagins_Ma...|\n",
      "| Ernest Rossbach|Maybell Duguay_Ab...|\n",
      "|  Latia Vanhoose|Latia Vanhoose_Mi...|\n",
      "|  Latia Vanhoose|Eda Neathery_Nico...|\n",
      "|     Neda Briski|Margene Moores_Mi...|\n",
      "|  Latia Vanhoose|Claude Panos_Sant...|\n",
      "|  Loris Crossett|Mitzi Seldon_Jenn...|\n",
      "|  Annika Hoffman|Taryn Brownlee_Mi...|\n",
      "|   Santa Kerfien|Judie Chipps_Tary...|\n",
      "|Mickey Cortright|Ernest Rossbach_M...|\n",
      "+----------------+--------------------+\n",
      "only showing top 20 rows\n",
      "\n"
     ]
    }
   ],
   "source": [
    "df.select(col(\"NAME\"),col(\"Email\")).show()"
   ]
  },
  {
   "cell_type": "code",
   "execution_count": 16,
   "id": "d9da51a4-b2a9-4ff7-bf1e-bfdace4bbcc0",
   "metadata": {},
   "outputs": [
    {
     "name": "stdout",
     "output_type": "stream",
     "text": [
      "+---+------+----------------+------+------+-----+--------------------+\n",
      "|age|gender|            name|course|  roll|marks|               email|\n",
      "+---+------+----------------+------+------+-----+--------------------+\n",
      "| 28|Female| Hubert Oliveras|    DB|  2984|   59|Annika Hoffman_Na...|\n",
      "| 29|Female|Toshiko Hillyard| Cloud| 12899|   62|Margene Moores_Ma...|\n",
      "| 28|  Male|  Celeste Lollis|    PF| 21267|   45|Jeannetta Golden_...|\n",
      "| 29|Female|    Elenore Choy|    DB| 32877|   29|Billi Clore_Mitzi...|\n",
      "| 28|  Male|  Sheryll Towler|   DSA| 41487|   41|Claude Panos_Judi...|\n",
      "| 28|  Male|  Margene Moores|   MVC| 52771|   32|Toshiko Hillyard_...|\n",
      "| 28|  Male|     Neda Briski|   OOP| 61973|   69|Alberta Freund_El...|\n",
      "| 28|Female|    Claude Panos| Cloud| 72409|   85|Sheryll Towler_Al...|\n",
      "| 28|  Male|  Celeste Lollis|   MVC| 81492|   64|Nicole Harwood_Cl...|\n",
      "| 29|  Male|  Cordie Harnois|   OOP| 92882|   51|Judie Chipps_Clem...|\n",
      "| 29|Female|       Kena Wild|   DSA|102285|   35|Dustin Feagins_Ma...|\n",
      "| 29|  Male| Ernest Rossbach|    DB|111449|   53|Maybell Duguay_Ab...|\n",
      "| 28|Female|  Latia Vanhoose|    DB|122502|   27|Latia Vanhoose_Mi...|\n",
      "| 29|Female|  Latia Vanhoose|   MVC|132110|   55|Eda Neathery_Nico...|\n",
      "| 29|  Male|     Neda Briski|    PF|141770|   42|Margene Moores_Mi...|\n",
      "| 29|Female|  Latia Vanhoose|    DB|152159|   27|Claude Panos_Sant...|\n",
      "| 29|  Male|  Loris Crossett|   MVC|161771|   36|Mitzi Seldon_Jenn...|\n",
      "| 29|  Male|  Annika Hoffman|   OOP|171660|   22|Taryn Brownlee_Mi...|\n",
      "| 29|  Male|   Santa Kerfien|    PF|182129|   56|Judie Chipps_Tary...|\n",
      "| 28|Female|Mickey Cortright|    DB|192537|   62|Ernest Rossbach_M...|\n",
      "+---+------+----------------+------+------+-----+--------------------+\n",
      "only showing top 20 rows\n",
      "\n"
     ]
    }
   ],
   "source": [
    "df.select('*').show()"
   ]
  },
  {
   "cell_type": "code",
   "execution_count": 17,
   "id": "97f6dc69-c0ac-4e14-baeb-74433266c125",
   "metadata": {},
   "outputs": [
    {
     "name": "stdout",
     "output_type": "stream",
     "text": [
      "+----------------+------+------+-----+\n",
      "|            name|course|  roll|marks|\n",
      "+----------------+------+------+-----+\n",
      "| Hubert Oliveras|    DB|  2984|   59|\n",
      "|Toshiko Hillyard| Cloud| 12899|   62|\n",
      "|  Celeste Lollis|    PF| 21267|   45|\n",
      "|    Elenore Choy|    DB| 32877|   29|\n",
      "|  Sheryll Towler|   DSA| 41487|   41|\n",
      "|  Margene Moores|   MVC| 52771|   32|\n",
      "|     Neda Briski|   OOP| 61973|   69|\n",
      "|    Claude Panos| Cloud| 72409|   85|\n",
      "|  Celeste Lollis|   MVC| 81492|   64|\n",
      "|  Cordie Harnois|   OOP| 92882|   51|\n",
      "|       Kena Wild|   DSA|102285|   35|\n",
      "| Ernest Rossbach|    DB|111449|   53|\n",
      "|  Latia Vanhoose|    DB|122502|   27|\n",
      "|  Latia Vanhoose|   MVC|132110|   55|\n",
      "|     Neda Briski|    PF|141770|   42|\n",
      "|  Latia Vanhoose|    DB|152159|   27|\n",
      "|  Loris Crossett|   MVC|161771|   36|\n",
      "|  Annika Hoffman|   OOP|171660|   22|\n",
      "|   Santa Kerfien|    PF|182129|   56|\n",
      "|Mickey Cortright|    DB|192537|   62|\n",
      "+----------------+------+------+-----+\n",
      "only showing top 20 rows\n",
      "\n"
     ]
    }
   ],
   "source": [
    "df.select(df.columns[2:6]).show()"
   ]
  },
  {
   "cell_type": "code",
   "execution_count": 18,
   "id": "8a8fd913-6665-428c-9b8b-073b7abcab9f",
   "metadata": {},
   "outputs": [
    {
     "name": "stdout",
     "output_type": "stream",
     "text": [
      "+----------------+------+------+-----+\n",
      "|            name|course|  roll|marks|\n",
      "+----------------+------+------+-----+\n",
      "| Hubert Oliveras|    DB|  2984|   59|\n",
      "|Toshiko Hillyard| Cloud| 12899|   62|\n",
      "|  Celeste Lollis|    PF| 21267|   45|\n",
      "|    Elenore Choy|    DB| 32877|   29|\n",
      "|  Sheryll Towler|   DSA| 41487|   41|\n",
      "|  Margene Moores|   MVC| 52771|   32|\n",
      "|     Neda Briski|   OOP| 61973|   69|\n",
      "|    Claude Panos| Cloud| 72409|   85|\n",
      "|  Celeste Lollis|   MVC| 81492|   64|\n",
      "|  Cordie Harnois|   OOP| 92882|   51|\n",
      "|       Kena Wild|   DSA|102285|   35|\n",
      "| Ernest Rossbach|    DB|111449|   53|\n",
      "|  Latia Vanhoose|    DB|122502|   27|\n",
      "|  Latia Vanhoose|   MVC|132110|   55|\n",
      "|     Neda Briski|    PF|141770|   42|\n",
      "|  Latia Vanhoose|    DB|152159|   27|\n",
      "|  Loris Crossett|   MVC|161771|   36|\n",
      "|  Annika Hoffman|   OOP|171660|   22|\n",
      "|   Santa Kerfien|    PF|182129|   56|\n",
      "|Mickey Cortright|    DB|192537|   62|\n",
      "+----------------+------+------+-----+\n",
      "only showing top 20 rows\n",
      "\n"
     ]
    }
   ],
   "source": [
    "df3 = df.select(df.columns[2:6])\n",
    "df3.show()"
   ]
  },
  {
   "cell_type": "code",
   "execution_count": 19,
   "id": "f4db3d68-1574-4767-9ca4-8a793e9dc950",
   "metadata": {},
   "outputs": [
    {
     "name": "stdout",
     "output_type": "stream",
     "text": [
      "root\n",
      " |-- name: string (nullable = true)\n",
      " |-- course: string (nullable = true)\n",
      " |-- roll: integer (nullable = true)\n",
      " |-- marks: integer (nullable = true)\n",
      "\n"
     ]
    }
   ],
   "source": [
    "df3.printSchema()"
   ]
  },
  {
   "cell_type": "code",
   "execution_count": null,
   "id": "9de7ec86-b790-4569-b103-da83a85473b4",
   "metadata": {},
   "outputs": [],
   "source": []
  }
 ],
 "metadata": {
  "kernelspec": {
   "display_name": "Python 3 (ipykernel)",
   "language": "python",
   "name": "python3"
  },
  "language_info": {
   "codemirror_mode": {
    "name": "ipython",
    "version": 3
   },
   "file_extension": ".py",
   "mimetype": "text/x-python",
   "name": "python",
   "nbconvert_exporter": "python",
   "pygments_lexer": "ipython3",
   "version": "3.10.16"
  }
 },
 "nbformat": 4,
 "nbformat_minor": 5
}
