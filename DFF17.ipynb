{
 "cells": [
  {
   "cell_type": "code",
   "execution_count": 1,
   "id": "a4022160-b2ea-460a-b488-6ebd657ae938",
   "metadata": {},
   "outputs": [],
   "source": [
    "from pyspark.sql import SparkSession"
   ]
  },
  {
   "cell_type": "code",
   "execution_count": 2,
   "id": "61d3af82-63ed-42e7-8d25-6d0b2fae663f",
   "metadata": {},
   "outputs": [],
   "source": [
    "from pyspark.sql import Row"
   ]
  },
  {
   "cell_type": "code",
   "execution_count": 3,
   "id": "8eb1c7b2-2726-43b0-9c84-9fe46139c65e",
   "metadata": {},
   "outputs": [
    {
     "name": "stderr",
     "output_type": "stream",
     "text": [
      "25/09/16 10:20:29 WARN SparkSession: Using an existing Spark session; only runtime SQL configurations will take effect.\n"
     ]
    }
   ],
   "source": [
    "spark = SparkSession.builder.master(\"local\").appName(\"JoinsExample\").getOrCreate()"
   ]
  },
  {
   "cell_type": "code",
   "execution_count": 4,
   "id": "f07a2524-a61a-4947-b8d9-0fb05dc0af0a",
   "metadata": {},
   "outputs": [],
   "source": [
    "data1 = [Row(id=1, value=\"A\"), Row(id=2, value=\"B\"), Row(id=3, value=\"C\")]\n",
    "data2 = [Row(id=1, value=\"X\"), Row(id=2, value=\"Y\"), Row(id=4, value=\"Z\")]"
   ]
  },
  {
   "cell_type": "code",
   "execution_count": 6,
   "id": "28f3fd7f-aca6-4458-92ba-a6a84267f2b0",
   "metadata": {},
   "outputs": [
    {
     "name": "stderr",
     "output_type": "stream",
     "text": [
      "                                                                                "
     ]
    },
    {
     "name": "stdout",
     "output_type": "stream",
     "text": [
      "+---+-----+\n",
      "| id|value|\n",
      "+---+-----+\n",
      "|  1|    A|\n",
      "|  2|    B|\n",
      "|  3|    C|\n",
      "+---+-----+\n",
      "\n"
     ]
    }
   ],
   "source": [
    "df1 = spark.createDataFrame(data1)\n",
    "df1.show()"
   ]
  },
  {
   "cell_type": "code",
   "execution_count": 7,
   "id": "8f4fdcdd-18b3-43fe-b685-10b3dbc18014",
   "metadata": {},
   "outputs": [
    {
     "name": "stdout",
     "output_type": "stream",
     "text": [
      "+---+-----+\n",
      "| id|value|\n",
      "+---+-----+\n",
      "|  1|    X|\n",
      "|  2|    Y|\n",
      "|  4|    Z|\n",
      "+---+-----+\n",
      "\n"
     ]
    }
   ],
   "source": [
    "df2 = spark.createDataFrame(data2)\n",
    "df2.show()"
   ]
  },
  {
   "cell_type": "code",
   "execution_count": 8,
   "id": "cdab9c0a-5dda-465b-aa0d-7edc5c6b92cf",
   "metadata": {},
   "outputs": [
    {
     "name": "stderr",
     "output_type": "stream",
     "text": [
      "[Stage 7:============================================>            (17 + 5) / 22]"
     ]
    },
    {
     "name": "stdout",
     "output_type": "stream",
     "text": [
      "+---+-----+---+-----+\n",
      "| id|value| id|value|\n",
      "+---+-----+---+-----+\n",
      "|  1|    A|  1|    X|\n",
      "|  2|    B|  2|    Y|\n",
      "+---+-----+---+-----+\n",
      "\n"
     ]
    },
    {
     "name": "stderr",
     "output_type": "stream",
     "text": [
      "                                                                                "
     ]
    }
   ],
   "source": [
    "inner_join_df = df1.join(df2,df1.id == df2.id, \"inner\")\n",
    "inner_join_df.show()"
   ]
  },
  {
   "cell_type": "code",
   "execution_count": 9,
   "id": "dcbb75e0-e8e0-4377-9672-1baab9a572c7",
   "metadata": {},
   "outputs": [
    {
     "name": "stdout",
     "output_type": "stream",
     "text": [
      "+----+-----+----+-----+\n",
      "|  id|value|  id|value|\n",
      "+----+-----+----+-----+\n",
      "|   1|    A|   1|    X|\n",
      "|   2|    B|   2|    Y|\n",
      "|   3|    C|NULL| NULL|\n",
      "|NULL| NULL|   4|    Z|\n",
      "+----+-----+----+-----+\n",
      "\n"
     ]
    }
   ],
   "source": [
    "full_outer_join_df = df1.join(df2,df1.id == df2.id, \"outer\")\n",
    "full_outer_join_df.show()"
   ]
  },
  {
   "cell_type": "code",
   "execution_count": 10,
   "id": "6757bec6-9265-407e-9d8e-807e4399acab",
   "metadata": {},
   "outputs": [
    {
     "name": "stdout",
     "output_type": "stream",
     "text": [
      "+---+-----+----+-----+\n",
      "| id|value|  id|value|\n",
      "+---+-----+----+-----+\n",
      "|  1|    A|   1|    X|\n",
      "|  2|    B|   2|    Y|\n",
      "|  3|    C|NULL| NULL|\n",
      "+---+-----+----+-----+\n",
      "\n"
     ]
    },
    {
     "name": "stderr",
     "output_type": "stream",
     "text": [
      "                                                                                "
     ]
    }
   ],
   "source": [
    "left_outer_join_df = df1.join(df2,df1.id == df2.id, \"left_outer\")\n",
    "left_outer_join_df.show()"
   ]
  },
  {
   "cell_type": "code",
   "execution_count": 11,
   "id": "ba048061-bd12-4241-a479-d48fa7088cf2",
   "metadata": {},
   "outputs": [
    {
     "name": "stdout",
     "output_type": "stream",
     "text": [
      "+----+-----+---+-----+\n",
      "|  id|value| id|value|\n",
      "+----+-----+---+-----+\n",
      "|   1|    A|  1|    X|\n",
      "|   2|    B|  2|    Y|\n",
      "|NULL| NULL|  4|    Z|\n",
      "+----+-----+---+-----+\n",
      "\n"
     ]
    }
   ],
   "source": [
    "right_outer_join_df = df1.join(df2,df1.id == df2.id, \"right_outer\")\n",
    "right_outer_join_df.show()"
   ]
  },
  {
   "cell_type": "code",
   "execution_count": null,
   "id": "82848a88-3a19-41f1-8dee-60d81d2cfe4e",
   "metadata": {},
   "outputs": [],
   "source": [
    "left_anti_outer_join_df = df1.join(df2,df1.id == df2.id, \"left_outer\")\n",
    "left_anti_outer_join_df.show()"
   ]
  }
 ],
 "metadata": {
  "kernelspec": {
   "display_name": "Python 3 (ipykernel)",
   "language": "python",
   "name": "python3"
  },
  "language_info": {
   "codemirror_mode": {
    "name": "ipython",
    "version": 3
   },
   "file_extension": ".py",
   "mimetype": "text/x-python",
   "name": "python",
   "nbconvert_exporter": "python",
   "pygments_lexer": "ipython3",
   "version": "3.10.16"
  }
 },
 "nbformat": 4,
 "nbformat_minor": 5
}
