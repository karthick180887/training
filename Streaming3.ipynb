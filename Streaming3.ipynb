{
 "cells": [
  {
   "cell_type": "code",
   "execution_count": 1,
   "id": "d6d9c037-39ec-4a8b-9015-1a4751c65e6b",
   "metadata": {},
   "outputs": [],
   "source": [
    "from pyspark.sql import SparkSession"
   ]
  },
  {
   "cell_type": "code",
   "execution_count": 3,
   "id": "c0313443-100c-49ef-813c-b7e0f7fe2e45",
   "metadata": {},
   "outputs": [],
   "source": [
    "spark = SparkSession.builder.appName(\"Sparking Streaming DF\").getOrCreate()"
   ]
  },
  {
   "cell_type": "code",
   "execution_count": 4,
   "id": "1898ff4e-85d0-4bb2-b0b1-ddbaa3b1ab80",
   "metadata": {},
   "outputs": [],
   "source": [
    "word = spark.readStream.text(\"/home/iceberg/notebooks/tables/\")"
   ]
  },
  {
   "cell_type": "code",
   "execution_count": 5,
   "id": "a05b4cc3-bea0-4421-b40e-d61be897f88c",
   "metadata": {},
   "outputs": [],
   "source": [
    "word = word.groupBy(\"value\").count()"
   ]
  },
  {
   "cell_type": "code",
   "execution_count": 11,
   "id": "223d7930-4e31-48dd-8f51-472d6045723e",
   "metadata": {},
   "outputs": [
    {
     "name": "stderr",
     "output_type": "stream",
     "text": [
      "25/09/18 07:27:15 WARN ResolveWriteToStream: spark.sql.adaptive.enabled is not supported in streaming DataFrames/Datasets and will be disabled.\n"
     ]
    },
    {
     "data": {
      "text/plain": [
       "<pyspark.sql.streaming.query.StreamingQuery at 0x7f456f089d50>"
      ]
     },
     "execution_count": 11,
     "metadata": {},
     "output_type": "execute_result"
    },
    {
     "name": "stderr",
     "output_type": "stream",
     "text": [
      "                                                                                "
     ]
    },
    {
     "name": "stdout",
     "output_type": "stream",
     "text": [
      "-------------------------------------------\n",
      "Batch: 0\n",
      "-------------------------------------------\n"
     ]
    },
    {
     "name": "stderr",
     "output_type": "stream",
     "text": [
      "                                                                                "
     ]
    },
    {
     "name": "stdout",
     "output_type": "stream",
     "text": [
      "-------------------------------------------\n",
      "Batch: 0\n",
      "-------------------------------------------\n",
      "+------+-----+\n",
      "| value|count|\n",
      "+------+-----+\n",
      "|   Mic|   10|\n",
      "| Chair|   15|\n",
      "|  Book|    5|\n",
      "|Laptop|    5|\n",
      "|   Bag|    5|\n",
      "|Mobile|    5|\n",
      "| Apple|   10|\n",
      "+------+-----+\n",
      "\n",
      "+------+-----+\n",
      "| value|count|\n",
      "+------+-----+\n",
      "|   Mic|   10|\n",
      "| Chair|   15|\n",
      "|  Book|    5|\n",
      "|Laptop|    5|\n",
      "|   Bag|    5|\n",
      "|Mobile|    5|\n",
      "| Apple|   10|\n",
      "+------+-----+\n",
      "\n"
     ]
    },
    {
     "name": "stderr",
     "output_type": "stream",
     "text": [
      "                                                                                "
     ]
    },
    {
     "name": "stdout",
     "output_type": "stream",
     "text": [
      "-------------------------------------------\n",
      "Batch: 0\n",
      "-------------------------------------------\n",
      "+------+-----+\n",
      "| value|count|\n",
      "+------+-----+\n",
      "|   Mic|   10|\n",
      "| Chair|   15|\n",
      "|  Book|    5|\n",
      "|Laptop|    5|\n",
      "|   Bag|    5|\n",
      "|Mobile|    5|\n",
      "| Apple|   10|\n",
      "+------+-----+\n",
      "\n"
     ]
    }
   ],
   "source": [
    "word.writeStream.format(\"console\").option(\"checkpointLocation\", \"/home/iceberg/notebooks/checkpoint/\").outputMode(\"complete\").start()"
   ]
  },
  {
   "cell_type": "code",
   "execution_count": null,
   "id": "65efe9a2-e527-4a56-bfb1-1b4f7e250943",
   "metadata": {},
   "outputs": [],
   "source": []
  }
 ],
 "metadata": {
  "kernelspec": {
   "display_name": "Python 3 (ipykernel)",
   "language": "python",
   "name": "python3"
  },
  "language_info": {
   "codemirror_mode": {
    "name": "ipython",
    "version": 3
   },
   "file_extension": ".py",
   "mimetype": "text/x-python",
   "name": "python",
   "nbconvert_exporter": "python",
   "pygments_lexer": "ipython3",
   "version": "3.10.16"
  }
 },
 "nbformat": 4,
 "nbformat_minor": 5
}
