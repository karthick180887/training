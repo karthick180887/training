{
 "cells": [
  {
   "cell_type": "code",
   "execution_count": 1,
   "id": "2e21c92e-506e-4957-a136-0f785d398a69",
   "metadata": {},
   "outputs": [
    {
     "name": "stderr",
     "output_type": "stream",
     "text": [
      "25/09/16 06:45:24 WARN SparkSession: Using an existing Spark session; only runtime SQL configurations will take effect.\n"
     ]
    }
   ],
   "source": [
    "import pyspark.sql\n",
    "from pyspark.sql import SparkSession\n",
    "spark = SparkSession.builder.appName(\"Spark DataFrames\").getOrCreate()"
   ]
  },
  {
   "cell_type": "code",
   "execution_count": 2,
   "id": "f7baf7bf-3a3f-4402-b7ae-d17df06df835",
   "metadata": {},
   "outputs": [
    {
     "name": "stdout",
     "output_type": "stream",
     "text": [
      "+---+------+----------------+------+------+-----+--------------------+\n",
      "|age|gender|            name|course|  roll|marks|               email|\n",
      "+---+------+----------------+------+------+-----+--------------------+\n",
      "| 28|Female| Hubert Oliveras|    DB|  2984|   59|Annika Hoffman_Na...|\n",
      "| 29|Female|Toshiko Hillyard| Cloud| 12899|   62|Margene Moores_Ma...|\n",
      "| 28|  Male|  Celeste Lollis|    PF| 21267|   45|Jeannetta Golden_...|\n",
      "| 29|Female|    Elenore Choy|    DB| 32877|   29|Billi Clore_Mitzi...|\n",
      "| 28|  Male|  Sheryll Towler|   DSA| 41487|   41|Claude Panos_Judi...|\n",
      "| 28|  Male|  Margene Moores|   MVC| 52771|   32|Toshiko Hillyard_...|\n",
      "| 28|  Male|     Neda Briski|   OOP| 61973|   69|Alberta Freund_El...|\n",
      "| 28|Female|    Claude Panos| Cloud| 72409|   85|Sheryll Towler_Al...|\n",
      "| 28|  Male|  Celeste Lollis|   MVC| 81492|   64|Nicole Harwood_Cl...|\n",
      "| 29|  Male|  Cordie Harnois|   OOP| 92882|   51|Judie Chipps_Clem...|\n",
      "| 29|Female|       Kena Wild|   DSA|102285|   35|Dustin Feagins_Ma...|\n",
      "| 29|  Male| Ernest Rossbach|    DB|111449|   53|Maybell Duguay_Ab...|\n",
      "| 28|Female|  Latia Vanhoose|    DB|122502|   27|Latia Vanhoose_Mi...|\n",
      "| 29|Female|  Latia Vanhoose|   MVC|132110|   55|Eda Neathery_Nico...|\n",
      "| 29|  Male|     Neda Briski|    PF|141770|   42|Margene Moores_Mi...|\n",
      "| 29|Female|  Latia Vanhoose|    DB|152159|   27|Claude Panos_Sant...|\n",
      "| 29|  Male|  Loris Crossett|   MVC|161771|   36|Mitzi Seldon_Jenn...|\n",
      "| 29|  Male|  Annika Hoffman|   OOP|171660|   22|Taryn Brownlee_Mi...|\n",
      "| 29|  Male|   Santa Kerfien|    PF|182129|   56|Judie Chipps_Tary...|\n",
      "| 28|Female|Mickey Cortright|    DB|192537|   62|Ernest Rossbach_M...|\n",
      "+---+------+----------------+------+------+-----+--------------------+\n",
      "only showing top 20 rows\n",
      "\n"
     ]
    }
   ],
   "source": [
    "df = spark.read.options(header='True',inferSchema='True').csv(\"/home/iceberg/notebooks/Data/StudentData.csv\")\n",
    "df.show()"
   ]
  },
  {
   "cell_type": "code",
   "execution_count": 3,
   "id": "47d357e6-313b-4ab8-8280-70c6d4c69a8d",
   "metadata": {},
   "outputs": [
    {
     "name": "stdout",
     "output_type": "stream",
     "text": [
      "+---+------+-----------------+------+-------+-----+--------------------+\n",
      "|age|gender|             name|course|   roll|marks|               email|\n",
      "+---+------+-----------------+------+-------+-----+--------------------+\n",
      "| 28|Female|     Jc Andrepont|    PF| 972733|   20|Eda Neathery_Eda ...|\n",
      "| 28|Female|   Maybell Duguay| Cloud| 261439|   20|Nicole Harwood_Ju...|\n",
      "| 28|  Male|  Marylee Capasso|   DSA|2081560|   20|Sheryll Towler_Do...|\n",
      "| 29|  Male|     Elenore Choy|    DB|3652057|   20|Jc Andrepont_Gonz...|\n",
      "| 29|Female|   Tamera Blakley|   DSA|3911247|   20|Donna Yerby_Bonit...|\n",
      "| 29|  Male|   Jalisa Swenson|   OOP|4751515|   20|Annika Hoffman_Hu...|\n",
      "| 29|Female|  Gonzalo Ferebee|   DSA|5631172|   20|Jeannetta Golden_...|\n",
      "| 29|  Male|Michelle Ruggiero|    PF|6001585|   20|Paris Hutton_Marg...|\n",
      "| 29|Female|Michelle Ruggiero|    DB|9232210|   20|Donna Yerby_Latia...|\n",
      "| 28|  Male|      Abram Nagao| Cloud|2652463|   21|Eda Neathery_Anni...|\n",
      "| 28|  Male|    Kizzy Brenner| Cloud|4622328|   21|Leontine Phillips...|\n",
      "| 28|Female|  Sebrina Maresca|    PF|5742239|   21|Bonita Higuera_Se...|\n",
      "| 28|  Male|   Bonita Higuera| Cloud|7671835|   21|Taryn Brownlee_Se...|\n",
      "| 28|  Male|      Billi Clore|    DB|9151306|   21|Latia Vanhoose_Er...|\n",
      "| 29|Female|  Gonzalo Ferebee|   OOP|2262603|   21|Bonita Higuera_Ch...|\n",
      "| 29|Female|   Alberta Freund|   OOP|4501424|   21|Toshiko Hillyard_...|\n",
      "| 29|  Male|  Sebrina Maresca| Cloud|5042394|   21|Donna Yerby_Miche...|\n",
      "| 29|  Male|   Tamera Blakley|   OOP|7341268|   21|Anna Santos_Naoma...|\n",
      "| 29|Female|   Nicole Harwood|    PF|8121198|   21|Bonita Higuera_Pr...|\n",
      "| 28|Female|     Cheri Kenney| Cloud|2281771|   22|Tamera Blakley_Ab...|\n",
      "+---+------+-----------------+------+-------+-----+--------------------+\n",
      "only showing top 20 rows\n",
      "\n"
     ]
    }
   ],
   "source": [
    "df.sort(df.marks,df.age).show()"
   ]
  },
  {
   "cell_type": "code",
   "execution_count": 6,
   "id": "2097c9a3-2438-4188-9208-eab47be196f3",
   "metadata": {},
   "outputs": [
    {
     "name": "stdout",
     "output_type": "stream",
     "text": [
      "+-----+\n",
      "|marks|\n",
      "+-----+\n",
      "|   31|\n",
      "|   85|\n",
      "|   65|\n",
      "|   53|\n",
      "|   78|\n",
      "|   34|\n",
      "|   81|\n",
      "|   28|\n",
      "|   76|\n",
      "|   27|\n",
      "|   26|\n",
      "|   44|\n",
      "|   91|\n",
      "|   22|\n",
      "|   93|\n",
      "|   47|\n",
      "|   52|\n",
      "|   86|\n",
      "|   20|\n",
      "|   40|\n",
      "+-----+\n",
      "only showing top 20 rows\n",
      "\n"
     ]
    }
   ],
   "source": [
    "df.select(\"marks\").distinct().show()"
   ]
  },
  {
   "cell_type": "code",
   "execution_count": 8,
   "id": "42c9a873-06c3-460b-be0f-b39bcadfddcb",
   "metadata": {},
   "outputs": [
    {
     "name": "stdout",
     "output_type": "stream",
     "text": [
      "+---+\n",
      "|age|\n",
      "+---+\n",
      "| 28|\n",
      "| 29|\n",
      "+---+\n",
      "\n"
     ]
    }
   ],
   "source": [
    "df.select(\"age\").distinct().show()"
   ]
  },
  {
   "cell_type": "code",
   "execution_count": 9,
   "id": "0a1fe57a-caf1-4cbb-9a9f-ff7ff3aaca5f",
   "metadata": {},
   "outputs": [
    {
     "name": "stdout",
     "output_type": "stream",
     "text": [
      "+---+------+-----------------+------+-------+-----+--------------------+\n",
      "|age|gender|             name|course|   roll|marks|               email|\n",
      "+---+------+-----------------+------+-------+-----+--------------------+\n",
      "| 28|Female|     Jc Andrepont|    PF| 972733|   20|Eda Neathery_Eda ...|\n",
      "| 28|Female|   Maybell Duguay| Cloud| 261439|   20|Nicole Harwood_Ju...|\n",
      "| 28|  Male|  Marylee Capasso|   DSA|2081560|   20|Sheryll Towler_Do...|\n",
      "| 29|  Male|     Elenore Choy|    DB|3652057|   20|Jc Andrepont_Gonz...|\n",
      "| 29|Female|   Tamera Blakley|   DSA|3911247|   20|Donna Yerby_Bonit...|\n",
      "| 29|  Male|   Jalisa Swenson|   OOP|4751515|   20|Annika Hoffman_Hu...|\n",
      "| 29|Female|  Gonzalo Ferebee|   DSA|5631172|   20|Jeannetta Golden_...|\n",
      "| 29|  Male|Michelle Ruggiero|    PF|6001585|   20|Paris Hutton_Marg...|\n",
      "| 29|Female|Michelle Ruggiero|    DB|9232210|   20|Donna Yerby_Latia...|\n",
      "| 28|  Male|      Abram Nagao| Cloud|2652463|   21|Eda Neathery_Anni...|\n",
      "| 28|  Male|    Kizzy Brenner| Cloud|4622328|   21|Leontine Phillips...|\n",
      "| 28|Female|  Sebrina Maresca|    PF|5742239|   21|Bonita Higuera_Se...|\n",
      "| 28|  Male|   Bonita Higuera| Cloud|7671835|   21|Taryn Brownlee_Se...|\n",
      "| 28|  Male|      Billi Clore|    DB|9151306|   21|Latia Vanhoose_Er...|\n",
      "| 29|Female|  Gonzalo Ferebee|   OOP|2262603|   21|Bonita Higuera_Ch...|\n",
      "| 29|Female|   Alberta Freund|   OOP|4501424|   21|Toshiko Hillyard_...|\n",
      "| 29|  Male|  Sebrina Maresca| Cloud|5042394|   21|Donna Yerby_Miche...|\n",
      "| 29|  Male|   Tamera Blakley|   OOP|7341268|   21|Anna Santos_Naoma...|\n",
      "| 29|Female|   Nicole Harwood|    PF|8121198|   21|Bonita Higuera_Pr...|\n",
      "| 28|Female|     Cheri Kenney| Cloud|2281771|   22|Tamera Blakley_Ab...|\n",
      "+---+------+-----------------+------+-------+-----+--------------------+\n",
      "only showing top 20 rows\n",
      "\n"
     ]
    }
   ],
   "source": [
    "df.orderBy(df.marks,df.age).show()"
   ]
  },
  {
   "cell_type": "code",
   "execution_count": null,
   "id": "76df3bcb-24de-4b5c-bb12-3c2a6fd92caf",
   "metadata": {},
   "outputs": [],
   "source": [
    "df.sort(df.marks)"
   ]
  }
 ],
 "metadata": {
  "kernelspec": {
   "display_name": "Python 3 (ipykernel)",
   "language": "python",
   "name": "python3"
  },
  "language_info": {
   "codemirror_mode": {
    "name": "ipython",
    "version": 3
   },
   "file_extension": ".py",
   "mimetype": "text/x-python",
   "name": "python",
   "nbconvert_exporter": "python",
   "pygments_lexer": "ipython3",
   "version": "3.10.16"
  }
 },
 "nbformat": 4,
 "nbformat_minor": 5
}
