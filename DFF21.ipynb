{
 "cells": [
  {
   "cell_type": "code",
   "execution_count": 1,
   "id": "54eda71b-93ce-4f7f-b6af-a2a5b109bf14",
   "metadata": {},
   "outputs": [],
   "source": [
    "from pyspark.sql import SparkSession"
   ]
  },
  {
   "cell_type": "code",
   "execution_count": 2,
   "id": "30f49280-47fa-416f-bdca-df628c102616",
   "metadata": {},
   "outputs": [
    {
     "name": "stderr",
     "output_type": "stream",
     "text": [
      "25/09/17 05:57:07 WARN SparkSession: Using an existing Spark session; only runtime SQL configurations will take effect.\n"
     ]
    }
   ],
   "source": [
    "spark = SparkSession.builder \\\n",
    "    .appName(\"FileTypesExample\") \\\n",
    "    .getOrCreate()"
   ]
  },
  {
   "cell_type": "code",
   "execution_count": 3,
   "id": "fee70edb-c8fb-4e7c-bbbe-a841bfae7d7e",
   "metadata": {},
   "outputs": [
    {
     "name": "stderr",
     "output_type": "stream",
     "text": [
      "                                                                                "
     ]
    }
   ],
   "source": [
    "dfjson = spark.read.json(\"/home/iceberg/notebooks/data/jsondemo/part*.json\")"
   ]
  },
  {
   "cell_type": "code",
   "execution_count": 4,
   "id": "6db3f6ad-034c-4d27-b8b6-b265a785b6c5",
   "metadata": {},
   "outputs": [
    {
     "name": "stdout",
     "output_type": "stream",
     "text": [
      "+---+------+--------------------+------+-----+----------------+------+\n",
      "|age|course|               email|gender|marks|            name|  roll|\n",
      "+---+------+--------------------+------+-----+----------------+------+\n",
      "| 28|    DB|Annika Hoffman_Na...|Female|   59| Hubert Oliveras|  2984|\n",
      "| 29| Cloud|Margene Moores_Ma...|Female|   62|Toshiko Hillyard| 12899|\n",
      "| 28|    PF|Jeannetta Golden_...|  Male|   45|  Celeste Lollis| 21267|\n",
      "| 29|    DB|Billi Clore_Mitzi...|Female|   29|    Elenore Choy| 32877|\n",
      "| 28|   DSA|Claude Panos_Judi...|  Male|   41|  Sheryll Towler| 41487|\n",
      "| 28|   MVC|Toshiko Hillyard_...|  Male|   32|  Margene Moores| 52771|\n",
      "| 28|   OOP|Alberta Freund_El...|  Male|   69|     Neda Briski| 61973|\n",
      "| 28| Cloud|Sheryll Towler_Al...|Female|   85|    Claude Panos| 72409|\n",
      "| 28|   MVC|Nicole Harwood_Cl...|  Male|   64|  Celeste Lollis| 81492|\n",
      "| 29|   OOP|Judie Chipps_Clem...|  Male|   51|  Cordie Harnois| 92882|\n",
      "| 29|   DSA|Dustin Feagins_Ma...|Female|   35|       Kena Wild|102285|\n",
      "| 29|    DB|Maybell Duguay_Ab...|  Male|   53| Ernest Rossbach|111449|\n",
      "| 28|    DB|Latia Vanhoose_Mi...|Female|   27|  Latia Vanhoose|122502|\n",
      "| 29|   MVC|Eda Neathery_Nico...|Female|   55|  Latia Vanhoose|132110|\n",
      "| 29|    PF|Margene Moores_Mi...|  Male|   42|     Neda Briski|141770|\n",
      "| 29|    DB|Claude Panos_Sant...|Female|   27|  Latia Vanhoose|152159|\n",
      "| 29|   MVC|Mitzi Seldon_Jenn...|  Male|   36|  Loris Crossett|161771|\n",
      "| 29|   OOP|Taryn Brownlee_Mi...|  Male|   22|  Annika Hoffman|171660|\n",
      "| 29|    PF|Judie Chipps_Tary...|  Male|   56|   Santa Kerfien|182129|\n",
      "| 28|    DB|Ernest Rossbach_M...|Female|   62|Mickey Cortright|192537|\n",
      "+---+------+--------------------+------+-----+----------------+------+\n",
      "only showing top 20 rows\n",
      "\n"
     ]
    }
   ],
   "source": [
    "dfjson.show()"
   ]
  },
  {
   "cell_type": "code",
   "execution_count": 5,
   "id": "1af9179e-db51-4f6e-aa97-0d67420247a0",
   "metadata": {},
   "outputs": [
    {
     "name": "stdout",
     "output_type": "stream",
     "text": [
      "root\n",
      " |-- age: long (nullable = true)\n",
      " |-- course: string (nullable = true)\n",
      " |-- email: string (nullable = true)\n",
      " |-- gender: string (nullable = true)\n",
      " |-- marks: long (nullable = true)\n",
      " |-- name: string (nullable = true)\n",
      " |-- roll: long (nullable = true)\n",
      "\n"
     ]
    }
   ],
   "source": [
    "dfjson.printSchema()"
   ]
  },
  {
   "cell_type": "code",
   "execution_count": 7,
   "id": "b3cc1ec3-5bcc-498a-a505-8a909ed55644",
   "metadata": {},
   "outputs": [
    {
     "name": "stdout",
     "output_type": "stream",
     "text": [
      "+-----------------+------+----------+----------+--------+---+--------------------+\n",
      "|          address|amount|      date|department|employee| id|            projects|\n",
      "+-----------------+------+----------+----------+--------+---+--------------------+\n",
      "|   {New York, NY}|   100|2025-09-10|         A|   Alice|  1|[{1000, Alpha}, {...|\n",
      "|{Los Angeles, CA}|   150|2025-09-11|         A|     Bob|  2|     [{2000, Gamma}]|\n",
      "|    {Chicago, IL}|   200|2025-09-12|         B| Charlie|  3|                  []|\n",
      "+-----------------+------+----------+----------+--------+---+--------------------+\n",
      "\n"
     ]
    }
   ],
   "source": [
    "nestedjson = spark.read.json(\"/home/iceberg/notebooks/data/jsondemo/sales_nested.json\",multiLine=True)\n",
    "nestedjson.show()"
   ]
  },
  {
   "cell_type": "code",
   "execution_count": 8,
   "id": "b88c190b-84b8-451c-ab1a-1b7f514690d9",
   "metadata": {},
   "outputs": [
    {
     "name": "stderr",
     "output_type": "stream",
     "text": [
      "                                                                                "
     ]
    }
   ],
   "source": [
    "nestedjson.write.parquet(\"/home/iceberg/notebooks/data/parquet\")"
   ]
  },
  {
   "cell_type": "code",
   "execution_count": 9,
   "id": "970fdd2b-5296-452b-b631-f0edb1a0ccb7",
   "metadata": {},
   "outputs": [
    {
     "name": "stdout",
     "output_type": "stream",
     "text": [
      "+---+------+----------------+------+------+-----+--------------------+\n",
      "|age|gender|            name|course|  roll|marks|               email|\n",
      "+---+------+----------------+------+------+-----+--------------------+\n",
      "| 28|Female| Hubert Oliveras|    DB|  2984|   59|Annika Hoffman_Na...|\n",
      "| 29|Female|Toshiko Hillyard| Cloud| 12899|   62|Margene Moores_Ma...|\n",
      "| 28|  Male|  Celeste Lollis|    PF| 21267|   45|Jeannetta Golden_...|\n",
      "| 29|Female|    Elenore Choy|    DB| 32877|   29|Billi Clore_Mitzi...|\n",
      "| 28|  Male|  Sheryll Towler|   DSA| 41487|   41|Claude Panos_Judi...|\n",
      "| 28|  Male|  Margene Moores|   MVC| 52771|   32|Toshiko Hillyard_...|\n",
      "| 28|  Male|     Neda Briski|   OOP| 61973|   69|Alberta Freund_El...|\n",
      "| 28|Female|    Claude Panos| Cloud| 72409|   85|Sheryll Towler_Al...|\n",
      "| 28|  Male|  Celeste Lollis|   MVC| 81492|   64|Nicole Harwood_Cl...|\n",
      "| 29|  Male|  Cordie Harnois|   OOP| 92882|   51|Judie Chipps_Clem...|\n",
      "| 29|Female|       Kena Wild|   DSA|102285|   35|Dustin Feagins_Ma...|\n",
      "| 29|  Male| Ernest Rossbach|    DB|111449|   53|Maybell Duguay_Ab...|\n",
      "| 28|Female|  Latia Vanhoose|    DB|122502|   27|Latia Vanhoose_Mi...|\n",
      "| 29|Female|  Latia Vanhoose|   MVC|132110|   55|Eda Neathery_Nico...|\n",
      "| 29|  Male|     Neda Briski|    PF|141770|   42|Margene Moores_Mi...|\n",
      "| 29|Female|  Latia Vanhoose|    DB|152159|   27|Claude Panos_Sant...|\n",
      "| 29|  Male|  Loris Crossett|   MVC|161771|   36|Mitzi Seldon_Jenn...|\n",
      "| 29|  Male|  Annika Hoffman|   OOP|171660|   22|Taryn Brownlee_Mi...|\n",
      "| 29|  Male|   Santa Kerfien|    PF|182129|   56|Judie Chipps_Tary...|\n",
      "| 28|Female|Mickey Cortright|    DB|192537|   62|Ernest Rossbach_M...|\n",
      "+---+------+----------------+------+------+-----+--------------------+\n",
      "only showing top 20 rows\n",
      "\n"
     ]
    }
   ],
   "source": [
    "parquetddf =spark.read.parquet(\"/home/iceberg/notebooks/data/parquetdemo/*.parquet\")\n",
    "parquetddf.show()"
   ]
  },
  {
   "cell_type": "code",
   "execution_count": 10,
   "id": "0c58db02-0525-4437-852b-c3f82c5a8fc1",
   "metadata": {},
   "outputs": [
    {
     "name": "stdout",
     "output_type": "stream",
     "text": [
      "+-----------------+------+----------+----------+--------+---+--------------------+\n",
      "|          address|amount|      date|department|employee| id|            projects|\n",
      "+-----------------+------+----------+----------+--------+---+--------------------+\n",
      "|   {New York, NY}|   100|2025-09-10|         A|   Alice|  1|[{1000, Alpha}, {...|\n",
      "|{Los Angeles, CA}|   150|2025-09-11|         A|     Bob|  2|     [{2000, Gamma}]|\n",
      "|    {Chicago, IL}|   200|2025-09-12|         B| Charlie|  3|                  []|\n",
      "+-----------------+------+----------+----------+--------+---+--------------------+\n",
      "\n"
     ]
    }
   ],
   "source": [
    "parquetddf =spark.read.parquet(\"/home/iceberg/notebooks/data/parquet/*.parquet\")\n",
    "parquetddf.show()"
   ]
  },
  {
   "cell_type": "code",
   "execution_count": 12,
   "id": "ecb8b73c-c7af-4b88-8e85-2255ebda25f6",
   "metadata": {},
   "outputs": [
    {
     "name": "stdout",
     "output_type": "stream",
     "text": [
      "+---+------+----------------+------+------+-----+--------------------+\n",
      "|age|gender|            name|course|  roll|marks|               email|\n",
      "+---+------+----------------+------+------+-----+--------------------+\n",
      "| 28|Female| Hubert Oliveras|    DB|  2984|   59|Annika Hoffman_Na...|\n",
      "| 29|Female|Toshiko Hillyard| Cloud| 12899|   62|Margene Moores_Ma...|\n",
      "| 28|  Male|  Celeste Lollis|    PF| 21267|   45|Jeannetta Golden_...|\n",
      "| 29|Female|    Elenore Choy|    DB| 32877|   29|Billi Clore_Mitzi...|\n",
      "| 28|  Male|  Sheryll Towler|   DSA| 41487|   41|Claude Panos_Judi...|\n",
      "| 28|  Male|  Margene Moores|   MVC| 52771|   32|Toshiko Hillyard_...|\n",
      "| 28|  Male|     Neda Briski|   OOP| 61973|   69|Alberta Freund_El...|\n",
      "| 28|Female|    Claude Panos| Cloud| 72409|   85|Sheryll Towler_Al...|\n",
      "| 28|  Male|  Celeste Lollis|   MVC| 81492|   64|Nicole Harwood_Cl...|\n",
      "| 29|  Male|  Cordie Harnois|   OOP| 92882|   51|Judie Chipps_Clem...|\n",
      "| 29|Female|       Kena Wild|   DSA|102285|   35|Dustin Feagins_Ma...|\n",
      "| 29|  Male| Ernest Rossbach|    DB|111449|   53|Maybell Duguay_Ab...|\n",
      "| 28|Female|  Latia Vanhoose|    DB|122502|   27|Latia Vanhoose_Mi...|\n",
      "| 29|Female|  Latia Vanhoose|   MVC|132110|   55|Eda Neathery_Nico...|\n",
      "| 29|  Male|     Neda Briski|    PF|141770|   42|Margene Moores_Mi...|\n",
      "| 29|Female|  Latia Vanhoose|    DB|152159|   27|Claude Panos_Sant...|\n",
      "| 29|  Male|  Loris Crossett|   MVC|161771|   36|Mitzi Seldon_Jenn...|\n",
      "| 29|  Male|  Annika Hoffman|   OOP|171660|   22|Taryn Brownlee_Mi...|\n",
      "| 29|  Male|   Santa Kerfien|    PF|182129|   56|Judie Chipps_Tary...|\n",
      "| 28|Female|Mickey Cortright|    DB|192537|   62|Ernest Rossbach_M...|\n",
      "+---+------+----------------+------+------+-----+--------------------+\n",
      "only showing top 20 rows\n",
      "\n"
     ]
    }
   ],
   "source": [
    "orcdf = spark.read.orc(\"/home/iceberg/notebooks/data/orcdemo/*.orc\")\n",
    "orcdf.show()"
   ]
  },
  {
   "cell_type": "code",
   "execution_count": null,
   "id": "a98104af-69d4-4e79-a513-5857cc297bc3",
   "metadata": {},
   "outputs": [],
   "source": []
  }
 ],
 "metadata": {
  "kernelspec": {
   "display_name": "Python 3 (ipykernel)",
   "language": "python",
   "name": "python3"
  },
  "language_info": {
   "codemirror_mode": {
    "name": "ipython",
    "version": 3
   },
   "file_extension": ".py",
   "mimetype": "text/x-python",
   "name": "python",
   "nbconvert_exporter": "python",
   "pygments_lexer": "ipython3",
   "version": "3.10.16"
  }
 },
 "nbformat": 4,
 "nbformat_minor": 5
}
