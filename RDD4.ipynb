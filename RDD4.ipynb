{
 "cells": [
  {
   "cell_type": "code",
   "execution_count": 1,
   "id": "e42f4ed2-eb21-42cb-95a8-65c97e7871c9",
   "metadata": {},
   "outputs": [],
   "source": [
    "import pyspark\n",
    "from pyspark import SparkContext\n",
    "sc = SparkContext.getOrCreate()"
   ]
  },
  {
   "cell_type": "code",
   "execution_count": 2,
   "id": "ac6ac9e3-a1f0-40d4-a5f1-e0c9d4fdb8c9",
   "metadata": {},
   "outputs": [],
   "source": [
    "rdd1 = sc.textFile(\"/home/iceberg/notebooks/Data/OfficeData.csv\")"
   ]
  },
  {
   "cell_type": "code",
   "execution_count": 3,
   "id": "e66375c9-e9cf-47ca-9ddc-d9e717640a18",
   "metadata": {},
   "outputs": [
    {
     "data": {
      "text/plain": [
       "['employee_name,department,state,salary,age,bonus',\n",
       " 'James,Sales,NY,90000,34,10000',\n",
       " 'Michael,Sales,NY,86000,56,20000',\n",
       " 'Robert,Sales,CA,81000,30,23000',\n",
       " 'Maria,Finance,CA,90000,24,23000',\n",
       " 'Raman,Finance,CA,99000,40,24000',\n",
       " 'Scott,Finance,NY,83000,36,19000',\n",
       " 'Jen,Finance,NY,79000,53,15000',\n",
       " 'Jeff,Marketing,CA,80000,25,18000',\n",
       " 'Kumar,Marketing,NY,91000,50,21000']"
      ]
     },
     "execution_count": 3,
     "metadata": {},
     "output_type": "execute_result"
    }
   ],
   "source": [
    "rdd1.collect()"
   ]
  },
  {
   "cell_type": "code",
   "execution_count": 5,
   "id": "1f220283-bc68-47a9-9ca1-b2cef01286fc",
   "metadata": {},
   "outputs": [
    {
     "name": "stderr",
     "output_type": "stream",
     "text": [
      "                                                                                "
     ]
    },
    {
     "data": {
      "text/plain": [
       "10"
      ]
     },
     "execution_count": 5,
     "metadata": {},
     "output_type": "execute_result"
    }
   ],
   "source": [
    "rdd1.count()"
   ]
  },
  {
   "cell_type": "code",
   "execution_count": 7,
   "id": "9f50cc32-5d31-4434-9279-481bff11bfdc",
   "metadata": {},
   "outputs": [],
   "source": [
    "rdd2 = rdd1.map(lambda x: x.split(\",\"))"
   ]
  },
  {
   "cell_type": "code",
   "execution_count": 8,
   "id": "c4cf82e9-486f-4f9c-9fd2-ba816b398d95",
   "metadata": {},
   "outputs": [
    {
     "data": {
      "text/plain": [
       "[['employee_name', 'department', 'state', 'salary', 'age', 'bonus'],\n",
       " ['James', 'Sales', 'NY', '90000', '34', '10000'],\n",
       " ['Michael', 'Sales', 'NY', '86000', '56', '20000'],\n",
       " ['Robert', 'Sales', 'CA', '81000', '30', '23000'],\n",
       " ['Maria', 'Finance', 'CA', '90000', '24', '23000'],\n",
       " ['Raman', 'Finance', 'CA', '99000', '40', '24000'],\n",
       " ['Scott', 'Finance', 'NY', '83000', '36', '19000'],\n",
       " ['Jen', 'Finance', 'NY', '79000', '53', '15000'],\n",
       " ['Jeff', 'Marketing', 'CA', '80000', '25', '18000'],\n",
       " ['Kumar', 'Marketing', 'NY', '91000', '50', '21000']]"
      ]
     },
     "execution_count": 8,
     "metadata": {},
     "output_type": "execute_result"
    }
   ],
   "source": [
    "rdd2.collect()"
   ]
  },
  {
   "cell_type": "code",
   "execution_count": 9,
   "id": "00bcf0f5-49ad-4c31-a262-a9759b759c76",
   "metadata": {},
   "outputs": [
    {
     "data": {
      "text/plain": [
       "10"
      ]
     },
     "execution_count": 9,
     "metadata": {},
     "output_type": "execute_result"
    }
   ],
   "source": [
    "rdd2.count()"
   ]
  },
  {
   "cell_type": "code",
   "execution_count": 10,
   "id": "c738131f-718a-4a75-a25e-077bd54a856e",
   "metadata": {},
   "outputs": [],
   "source": [
    "rdd3 = rdd1.flatMap(lambda x: x.split(\",\"))"
   ]
  },
  {
   "cell_type": "code",
   "execution_count": 11,
   "id": "41dce9a6-88bd-4aae-82eb-4aa6b56efc3c",
   "metadata": {},
   "outputs": [
    {
     "data": {
      "text/plain": [
       "60"
      ]
     },
     "execution_count": 11,
     "metadata": {},
     "output_type": "execute_result"
    }
   ],
   "source": [
    "rdd3.count()"
   ]
  },
  {
   "cell_type": "code",
   "execution_count": 12,
   "id": "74c1cad6-7a1d-42ab-ab4e-73c5d83e93a1",
   "metadata": {},
   "outputs": [
    {
     "data": {
      "text/plain": [
       "['employee_name',\n",
       " 'department',\n",
       " 'state',\n",
       " 'salary',\n",
       " 'age',\n",
       " 'bonus',\n",
       " 'James',\n",
       " 'Sales',\n",
       " 'NY',\n",
       " '90000',\n",
       " '34',\n",
       " '10000',\n",
       " 'Michael',\n",
       " 'Sales',\n",
       " 'NY',\n",
       " '86000',\n",
       " '56',\n",
       " '20000',\n",
       " 'Robert',\n",
       " 'Sales',\n",
       " 'CA',\n",
       " '81000',\n",
       " '30',\n",
       " '23000',\n",
       " 'Maria',\n",
       " 'Finance',\n",
       " 'CA',\n",
       " '90000',\n",
       " '24',\n",
       " '23000',\n",
       " 'Raman',\n",
       " 'Finance',\n",
       " 'CA',\n",
       " '99000',\n",
       " '40',\n",
       " '24000',\n",
       " 'Scott',\n",
       " 'Finance',\n",
       " 'NY',\n",
       " '83000',\n",
       " '36',\n",
       " '19000',\n",
       " 'Jen',\n",
       " 'Finance',\n",
       " 'NY',\n",
       " '79000',\n",
       " '53',\n",
       " '15000',\n",
       " 'Jeff',\n",
       " 'Marketing',\n",
       " 'CA',\n",
       " '80000',\n",
       " '25',\n",
       " '18000',\n",
       " 'Kumar',\n",
       " 'Marketing',\n",
       " 'NY',\n",
       " '91000',\n",
       " '50',\n",
       " '21000']"
      ]
     },
     "execution_count": 12,
     "metadata": {},
     "output_type": "execute_result"
    }
   ],
   "source": [
    "rdd3.collect()"
   ]
  },
  {
   "cell_type": "code",
   "execution_count": 13,
   "id": "f9847a5f-8bd1-49c9-9ebc-6ac3607bd9b1",
   "metadata": {},
   "outputs": [],
   "source": [
    "demo1 = sc.textFile(\"/home/iceberg/notebooks/Data/StudentData.csv\")"
   ]
  },
  {
   "cell_type": "code",
   "execution_count": 14,
   "id": "8a73b7eb-2dcd-4aec-9cf7-b65c9c010134",
   "metadata": {},
   "outputs": [
    {
     "data": {
      "text/plain": [
       "1001"
      ]
     },
     "execution_count": 14,
     "metadata": {},
     "output_type": "execute_result"
    }
   ],
   "source": [
    "demo1.count()"
   ]
  },
  {
   "cell_type": "code",
   "execution_count": 15,
   "id": "be5c8c02-4953-4075-ae92-ce91e1569d6e",
   "metadata": {},
   "outputs": [],
   "source": [
    "#Word count inside the file"
   ]
  },
  {
   "cell_type": "code",
   "execution_count": null,
   "id": "fe4e1c0c-433a-42d1-ac14-1d3c8ffc1e9f",
   "metadata": {},
   "outputs": [],
   "source": [
    "demo2 = demo1.flatMap(la)"
   ]
  }
 ],
 "metadata": {
  "kernelspec": {
   "display_name": "Python 3 (ipykernel)",
   "language": "python",
   "name": "python3"
  },
  "language_info": {
   "codemirror_mode": {
    "name": "ipython",
    "version": 3
   },
   "file_extension": ".py",
   "mimetype": "text/x-python",
   "name": "python",
   "nbconvert_exporter": "python",
   "pygments_lexer": "ipython3",
   "version": "3.10.16"
  }
 },
 "nbformat": 4,
 "nbformat_minor": 5
}
