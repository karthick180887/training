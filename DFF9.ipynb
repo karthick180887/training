{
 "cells": [
  {
   "cell_type": "code",
   "execution_count": 1,
   "id": "23d356c8-eb38-470c-bcba-0004562dc14a",
   "metadata": {},
   "outputs": [
    {
     "name": "stderr",
     "output_type": "stream",
     "text": [
      "25/09/16 06:00:59 WARN SparkSession: Using an existing Spark session; only runtime SQL configurations will take effect.\n"
     ]
    }
   ],
   "source": [
    "import pyspark.sql\n",
    "from pyspark.sql import SparkSession\n",
    "spark = SparkSession.builder.appName(\"Spark DataFrames\").getOrCreate()"
   ]
  },
  {
   "cell_type": "code",
   "execution_count": 2,
   "id": "7e3e7688-10ae-41bb-bc27-ebe10529d8cc",
   "metadata": {},
   "outputs": [
    {
     "name": "stderr",
     "output_type": "stream",
     "text": [
      "                                                                                "
     ]
    },
    {
     "name": "stdout",
     "output_type": "stream",
     "text": [
      "+---+------+----------------+------+------+-----+--------------------+\n",
      "|age|gender|            name|course|  roll|marks|               email|\n",
      "+---+------+----------------+------+------+-----+--------------------+\n",
      "| 28|Female| Hubert Oliveras|    DB|  2984|   59|Annika Hoffman_Na...|\n",
      "| 29|Female|Toshiko Hillyard| Cloud| 12899|   62|Margene Moores_Ma...|\n",
      "| 28|  Male|  Celeste Lollis|    PF| 21267|   45|Jeannetta Golden_...|\n",
      "| 29|Female|    Elenore Choy|    DB| 32877|   29|Billi Clore_Mitzi...|\n",
      "| 28|  Male|  Sheryll Towler|   DSA| 41487|   41|Claude Panos_Judi...|\n",
      "| 28|  Male|  Margene Moores|   MVC| 52771|   32|Toshiko Hillyard_...|\n",
      "| 28|  Male|     Neda Briski|   OOP| 61973|   69|Alberta Freund_El...|\n",
      "| 28|Female|    Claude Panos| Cloud| 72409|   85|Sheryll Towler_Al...|\n",
      "| 28|  Male|  Celeste Lollis|   MVC| 81492|   64|Nicole Harwood_Cl...|\n",
      "| 29|  Male|  Cordie Harnois|   OOP| 92882|   51|Judie Chipps_Clem...|\n",
      "| 29|Female|       Kena Wild|   DSA|102285|   35|Dustin Feagins_Ma...|\n",
      "| 29|  Male| Ernest Rossbach|    DB|111449|   53|Maybell Duguay_Ab...|\n",
      "| 28|Female|  Latia Vanhoose|    DB|122502|   27|Latia Vanhoose_Mi...|\n",
      "| 29|Female|  Latia Vanhoose|   MVC|132110|   55|Eda Neathery_Nico...|\n",
      "| 29|  Male|     Neda Briski|    PF|141770|   42|Margene Moores_Mi...|\n",
      "| 29|Female|  Latia Vanhoose|    DB|152159|   27|Claude Panos_Sant...|\n",
      "| 29|  Male|  Loris Crossett|   MVC|161771|   36|Mitzi Seldon_Jenn...|\n",
      "| 29|  Male|  Annika Hoffman|   OOP|171660|   22|Taryn Brownlee_Mi...|\n",
      "| 29|  Male|   Santa Kerfien|    PF|182129|   56|Judie Chipps_Tary...|\n",
      "| 28|Female|Mickey Cortright|    DB|192537|   62|Ernest Rossbach_M...|\n",
      "+---+------+----------------+------+------+-----+--------------------+\n",
      "only showing top 20 rows\n",
      "\n"
     ]
    }
   ],
   "source": [
    "df = spark.read.options(header='True',inferSchema='True').csv(\"/home/iceberg/notebooks/Data/StudentData.csv\")\n",
    "df.show()"
   ]
  },
  {
   "cell_type": "code",
   "execution_count": 3,
   "id": "4fedebff-25f4-445e-abd5-06124fb418ed",
   "metadata": {},
   "outputs": [
    {
     "name": "stdout",
     "output_type": "stream",
     "text": [
      "+---+------+-----------------+------+-------+-----+--------------------+\n",
      "|age|gender|             name|course|   roll|marks|               email|\n",
      "+---+------+-----------------+------+-------+-----+--------------------+\n",
      "| 28|Female|  Hubert Oliveras|    DB|   2984|   59|Annika Hoffman_Na...|\n",
      "| 29|Female|     Elenore Choy|    DB|  32877|   29|Billi Clore_Mitzi...|\n",
      "| 29|  Male|  Ernest Rossbach|    DB| 111449|   53|Maybell Duguay_Ab...|\n",
      "| 28|Female|   Latia Vanhoose|    DB| 122502|   27|Latia Vanhoose_Mi...|\n",
      "| 29|Female|   Latia Vanhoose|    DB| 152159|   27|Claude Panos_Sant...|\n",
      "| 28|Female| Mickey Cortright|    DB| 192537|   62|Ernest Rossbach_M...|\n",
      "| 28|Female|      Anna Santos|    DB| 311589|   79|Celeste Lollis_Mi...|\n",
      "| 28|  Male|    Kizzy Brenner|    DB| 381712|   36|Paris Hutton_Kena...|\n",
      "| 28|  Male| Toshiko Hillyard|    DB| 392218|   47|Leontine Phillips...|\n",
      "| 29|  Male|     Paris Hutton|    DB| 481229|   57|Clementina Menke_...|\n",
      "| 28|Female| Mickey Cortright|    DB| 551389|   43|Tijuana Kropf_Jen...|\n",
      "| 28|Female|Leontine Phillips|    DB| 602404|   48|Neda Briski_Cheri...|\n",
      "| 28|Female|  Hubert Oliveras|    DB| 771081|   79|Kizzy Brenner_Dus...|\n",
      "| 29|Female|     Elenore Choy|    DB| 811824|   55|Maybell Duguay_Me...|\n",
      "| 29|  Male| Clementina Menke|    DB| 882200|   76|Michelle Ruggiero...|\n",
      "| 29|Female|  Sebrina Maresca|    DB| 922210|   54|Toshiko Hillyard_...|\n",
      "| 29|  Male|     Naoma Fritts|    DB| 931295|   79|Hubert Oliveras_S...|\n",
      "| 28|  Male|   Annika Hoffman|    DB|1031544|   44|Dustin Feagins_So...|\n",
      "| 28|  Male|   Nicole Harwood|    DB|1211495|   28|Melani Engberg_Jc...|\n",
      "| 29|Female|     Claude Panos|    DB|1222887|   75|Hubert Oliveras_S...|\n",
      "+---+------+-----------------+------+-------+-----+--------------------+\n",
      "only showing top 20 rows\n",
      "\n"
     ]
    }
   ],
   "source": [
    "df.filter(df.course == \"DB\").show()"
   ]
  },
  {
   "cell_type": "code",
   "execution_count": 4,
   "id": "16147a84-af2f-41c1-86cb-30cb92d2e607",
   "metadata": {},
   "outputs": [],
   "source": [
    "from pyspark.sql.functions import col"
   ]
  },
  {
   "cell_type": "code",
   "execution_count": 5,
   "id": "41da52a3-9311-4125-81a1-2fcf4ac27283",
   "metadata": {},
   "outputs": [
    {
     "name": "stdout",
     "output_type": "stream",
     "text": [
      "+---+------+-----------------+------+-------+-----+--------------------+\n",
      "|age|gender|             name|course|   roll|marks|               email|\n",
      "+---+------+-----------------+------+-------+-----+--------------------+\n",
      "| 28|Female|  Hubert Oliveras|    DB|   2984|   59|Annika Hoffman_Na...|\n",
      "| 29|Female|     Elenore Choy|    DB|  32877|   29|Billi Clore_Mitzi...|\n",
      "| 29|  Male|  Ernest Rossbach|    DB| 111449|   53|Maybell Duguay_Ab...|\n",
      "| 28|Female|   Latia Vanhoose|    DB| 122502|   27|Latia Vanhoose_Mi...|\n",
      "| 29|Female|   Latia Vanhoose|    DB| 152159|   27|Claude Panos_Sant...|\n",
      "| 28|Female| Mickey Cortright|    DB| 192537|   62|Ernest Rossbach_M...|\n",
      "| 28|Female|      Anna Santos|    DB| 311589|   79|Celeste Lollis_Mi...|\n",
      "| 28|  Male|    Kizzy Brenner|    DB| 381712|   36|Paris Hutton_Kena...|\n",
      "| 28|  Male| Toshiko Hillyard|    DB| 392218|   47|Leontine Phillips...|\n",
      "| 29|  Male|     Paris Hutton|    DB| 481229|   57|Clementina Menke_...|\n",
      "| 28|Female| Mickey Cortright|    DB| 551389|   43|Tijuana Kropf_Jen...|\n",
      "| 28|Female|Leontine Phillips|    DB| 602404|   48|Neda Briski_Cheri...|\n",
      "| 28|Female|  Hubert Oliveras|    DB| 771081|   79|Kizzy Brenner_Dus...|\n",
      "| 29|Female|     Elenore Choy|    DB| 811824|   55|Maybell Duguay_Me...|\n",
      "| 29|  Male| Clementina Menke|    DB| 882200|   76|Michelle Ruggiero...|\n",
      "| 29|Female|  Sebrina Maresca|    DB| 922210|   54|Toshiko Hillyard_...|\n",
      "| 29|  Male|     Naoma Fritts|    DB| 931295|   79|Hubert Oliveras_S...|\n",
      "| 28|  Male|   Annika Hoffman|    DB|1031544|   44|Dustin Feagins_So...|\n",
      "| 28|  Male|   Nicole Harwood|    DB|1211495|   28|Melani Engberg_Jc...|\n",
      "| 29|Female|     Claude Panos|    DB|1222887|   75|Hubert Oliveras_S...|\n",
      "+---+------+-----------------+------+-------+-----+--------------------+\n",
      "only showing top 20 rows\n",
      "\n"
     ]
    }
   ],
   "source": [
    "df.filter(col(\"course\") == \"DB\").show()"
   ]
  },
  {
   "cell_type": "code",
   "execution_count": 8,
   "id": "3ba0f890-8743-403a-868f-082bb08e0372",
   "metadata": {},
   "outputs": [],
   "source": [
    "#df.filter(\"course\" == \"DB\").show()"
   ]
  },
  {
   "cell_type": "code",
   "execution_count": 10,
   "id": "b53632b9-3cab-47ac-a8f5-85321f62cdd9",
   "metadata": {},
   "outputs": [
    {
     "name": "stdout",
     "output_type": "stream",
     "text": [
      "+---+------+------------------+------+-------+-----+--------------------+\n",
      "|age|gender|              name|course|   roll|marks|               email|\n",
      "+---+------+------------------+------+-------+-----+--------------------+\n",
      "| 28|Female|   Hubert Oliveras|    DB|   2984|   59|Annika Hoffman_Na...|\n",
      "| 29|  Male|   Ernest Rossbach|    DB| 111449|   53|Maybell Duguay_Ab...|\n",
      "| 28|Female|  Mickey Cortright|    DB| 192537|   62|Ernest Rossbach_M...|\n",
      "| 28|Female|       Anna Santos|    DB| 311589|   79|Celeste Lollis_Mi...|\n",
      "| 29|  Male|      Paris Hutton|    DB| 481229|   57|Clementina Menke_...|\n",
      "| 28|Female|   Hubert Oliveras|    DB| 771081|   79|Kizzy Brenner_Dus...|\n",
      "| 29|Female|      Elenore Choy|    DB| 811824|   55|Maybell Duguay_Me...|\n",
      "| 29|  Male|  Clementina Menke|    DB| 882200|   76|Michelle Ruggiero...|\n",
      "| 29|Female|   Sebrina Maresca|    DB| 922210|   54|Toshiko Hillyard_...|\n",
      "| 29|  Male|      Naoma Fritts|    DB| 931295|   79|Hubert Oliveras_S...|\n",
      "| 29|Female|      Claude Panos|    DB|1222887|   75|Hubert Oliveras_S...|\n",
      "| 29|Female| Leontine Phillips|    DB|1432252|   67|Billi Clore_Shery...|\n",
      "| 28|Female|   Gonzalo Ferebee|    DB|1451513|   69|Claude Panos_Tame...|\n",
      "| 28|  Male|   Marylee Capasso|    DB|1611411|   96|Annika Hoffman_Lo...|\n",
      "| 29|  Male|    Alberta Freund|    DB|1671638|   98|Clementina Menke_...|\n",
      "| 28|Female|Priscila Tavernier|    DB|1722388|   86|Lawanda Wohlwend_...|\n",
      "| 29|  Male|    Dustin Feagins|    DB|1782045|   81|Cordie Harnois_To...|\n",
      "| 29|  Male|     Tijuana Kropf|    DB|1882795|   92|Hubert Oliveras_E...|\n",
      "| 28|  Male|   Ernest Rossbach|    DB|1901492|   54|Latia Vanhoose_Jc...|\n",
      "| 29|Female| Leontine Phillips|    DB|1972893|   64|Marylee Capasso_E...|\n",
      "+---+------+------------------+------+-------+-----+--------------------+\n",
      "only showing top 20 rows\n",
      "\n"
     ]
    }
   ],
   "source": [
    "df.filter((df.course == \"DB\") & (df.marks > 50)).show()"
   ]
  },
  {
   "cell_type": "code",
   "execution_count": 11,
   "id": "2a3cca4f-bf87-4f85-b61d-baba63c751a8",
   "metadata": {},
   "outputs": [
    {
     "name": "stdout",
     "output_type": "stream",
     "text": [
      "['DB', 'Cloud', 'OOP', 'DSA']\n",
      "<class 'list'>\n"
     ]
    }
   ],
   "source": [
    "courses = [\"DB\",\"Cloud\",\"OOP\",\"DSA\"]\n",
    "print(courses)\n",
    "print(type(courses))"
   ]
  },
  {
   "cell_type": "code",
   "execution_count": 12,
   "id": "bdd05f03-3f88-4ceb-819c-981f901f34ec",
   "metadata": {},
   "outputs": [
    {
     "name": "stdout",
     "output_type": "stream",
     "text": [
      "+---+------+----------------+------+------+-----+--------------------+\n",
      "|age|gender|            name|course|  roll|marks|               email|\n",
      "+---+------+----------------+------+------+-----+--------------------+\n",
      "| 28|Female| Hubert Oliveras|    DB|  2984|   59|Annika Hoffman_Na...|\n",
      "| 29|Female|Toshiko Hillyard| Cloud| 12899|   62|Margene Moores_Ma...|\n",
      "| 29|Female|    Elenore Choy|    DB| 32877|   29|Billi Clore_Mitzi...|\n",
      "| 28|  Male|  Sheryll Towler|   DSA| 41487|   41|Claude Panos_Judi...|\n",
      "| 28|  Male|     Neda Briski|   OOP| 61973|   69|Alberta Freund_El...|\n",
      "| 28|Female|    Claude Panos| Cloud| 72409|   85|Sheryll Towler_Al...|\n",
      "| 29|  Male|  Cordie Harnois|   OOP| 92882|   51|Judie Chipps_Clem...|\n",
      "| 29|Female|       Kena Wild|   DSA|102285|   35|Dustin Feagins_Ma...|\n",
      "| 29|  Male| Ernest Rossbach|    DB|111449|   53|Maybell Duguay_Ab...|\n",
      "| 28|Female|  Latia Vanhoose|    DB|122502|   27|Latia Vanhoose_Mi...|\n",
      "| 29|Female|  Latia Vanhoose|    DB|152159|   27|Claude Panos_Sant...|\n",
      "| 29|  Male|  Annika Hoffman|   OOP|171660|   22|Taryn Brownlee_Mi...|\n",
      "| 28|Female|Mickey Cortright|    DB|192537|   62|Ernest Rossbach_M...|\n",
      "| 28|Female|       Kena Wild| Cloud|221750|   60|Mitzi Seldon_Jenn...|\n",
      "| 28|Female|    Jc Andrepont|   DSA|232060|   58|Billi Clore_Abram...|\n",
      "| 29|Female|     Anna Santos| Cloud|242254|   68|Jc Andrepont_Hube...|\n",
      "| 28|Female|  Alberta Freund|   OOP|251805|   83|Annika Hoffman_Sh...|\n",
      "| 28|Female|  Maybell Duguay| Cloud|261439|   20|Nicole Harwood_Ju...|\n",
      "| 29|Female|    Paris Hutton|   DSA|271472|   99|Sheryll Towler_Al...|\n",
      "| 29|Female|    Cheri Kenney| Cloud|281408|   43|Annika Hoffman_Me...|\n",
      "+---+------+----------------+------+------+-----+--------------------+\n",
      "only showing top 20 rows\n",
      "\n"
     ]
    }
   ],
   "source": [
    "df.filter(df.course.isin(courses)).show()"
   ]
  },
  {
   "cell_type": "code",
   "execution_count": 13,
   "id": "00b645fb-64f4-4652-b51c-0e3e072b82d8",
   "metadata": {},
   "outputs": [
    {
     "name": "stdout",
     "output_type": "stream",
     "text": [
      "+---+------+----------------+------+-------+-----+--------------------+\n",
      "|age|gender|            name|course|   roll|marks|               email|\n",
      "+---+------+----------------+------+-------+-----+--------------------+\n",
      "| 28|  Male|  Sheryll Towler|   DSA|  41487|   41|Claude Panos_Judi...|\n",
      "| 29|Female|       Kena Wild|   DSA| 102285|   35|Dustin Feagins_Ma...|\n",
      "| 28|Female|    Jc Andrepont|   DSA| 232060|   58|Billi Clore_Abram...|\n",
      "| 29|Female|    Paris Hutton|   DSA| 271472|   99|Sheryll Towler_Al...|\n",
      "| 28|Female|  Dustin Feagins|   DSA| 291984|   82|Abram Nagao_Kena ...|\n",
      "| 28|Female|Mickey Cortright|   DSA| 342003|   44|Mitzi Seldon_Jean...|\n",
      "| 29|Female|     Anna Santos|   DSA| 411479|   42|Kena Wild_Mitzi S...|\n",
      "| 28|Female|  Maybell Duguay|   DSA| 452141|   29|Leontine Phillips...|\n",
      "| 29|Female|    Paris Hutton|   DSA| 492159|   60|Nicole Harwood_Ma...|\n",
      "| 29|  Male|  Celeste Lollis|   DSA| 562065|   85|Jc Andrepont_Mela...|\n",
      "| 29|  Male|  Maybell Duguay|   DSA| 592061|   83|Eda Neathery_Jenn...|\n",
      "| 28|  Male|    Mitzi Seldon|   DSA| 622981|   45|Lawanda Wohlwend_...|\n",
      "| 28|Female|  Jenna Montague|   DSA| 691564|   26|Mitzi Seldon_Sebr...|\n",
      "| 28|Female|  Celeste Lollis|   DSA| 731879|   76|Hubert Oliveras_G...|\n",
      "| 28|  Male|  Sheryll Towler|   DSA| 831562|   59|Kena Wild_Gonzalo...|\n",
      "| 28|Female|  Sheryll Towler|   DSA| 871967|   64|Michelle Ruggiero...|\n",
      "| 28|  Male|  Margene Moores|   DSA| 892010|   93|Anna Santos_Naoma...|\n",
      "| 28|Female|  Somer Stoecker|   DSA| 901958|   64|Kizzy Brenner_Jc ...|\n",
      "| 28|Female|Lawanda Wohlwend|   DSA| 951686|   60|Loris Crossett_Ni...|\n",
      "| 28|  Male|  Jenna Montague|   DSA|1002103|   36|Melani Engberg_Hu...|\n",
      "+---+------+----------------+------+-------+-----+--------------------+\n",
      "only showing top 20 rows\n",
      "\n"
     ]
    }
   ],
   "source": [
    "df.filter(df.course.startswith(\"DS\")).show()"
   ]
  },
  {
   "cell_type": "code",
   "execution_count": 14,
   "id": "ef6bda50-e8e4-483f-9b0a-aaa56a582aba",
   "metadata": {},
   "outputs": [
    {
     "name": "stdout",
     "output_type": "stream",
     "text": [
      "+---+------+--------------+------+-------+-----+--------------------+\n",
      "|age|gender|          name|course|   roll|marks|               email|\n",
      "+---+------+--------------+------+-------+-----+--------------------+\n",
      "| 28|Female|Latia Vanhoose|    DB| 122502|   27|Latia Vanhoose_Mi...|\n",
      "| 29|Female|Latia Vanhoose|   MVC| 132110|   55|Eda Neathery_Nico...|\n",
      "| 29|Female|Latia Vanhoose|    DB| 152159|   27|Claude Panos_Sant...|\n",
      "| 29|  Male|Latia Vanhoose| Cloud|1832268|   60|Marylee Capasso_S...|\n",
      "| 29|  Male|Latia Vanhoose|   OOP|2372748|   94|Latia Vanhoose_La...|\n",
      "| 29|Female|Latia Vanhoose|    PF|2861854|   42|Claude Panos_Nico...|\n",
      "| 29|  Male|Latia Vanhoose|   MVC|2992281|   90|Elenore Choy_Cord...|\n",
      "| 29|Female|Latia Vanhoose|   MVC|3091650|   30|Cordie Harnois_Se...|\n",
      "| 29|Female|Latia Vanhoose|   OOP|3841395|   26|Kizzy Brenner_Eda...|\n",
      "| 29|  Male|Latia Vanhoose| Cloud|4661276|   40|Jc Andrepont_Anni...|\n",
      "| 28|Female|Latia Vanhoose|   OOP|4792828|   72|Tamera Blakley_Mi...|\n",
      "| 28|Female|Latia Vanhoose|    PF|5222171|   73|Toshiko Hillyard_...|\n",
      "| 28|Female|Latia Vanhoose| Cloud|6701628|   33|Abram Nagao_Cheri...|\n",
      "| 29|Female|Latia Vanhoose|   MVC|6771882|   49|Alberta Freund_La...|\n",
      "| 28|Female|Latia Vanhoose|   MVC|7381991|   94|Eda Neathery_Mich...|\n",
      "| 29|  Male|Latia Vanhoose| Cloud|7721956|   45|Jalisa Swenson_An...|\n",
      "| 28|  Male|Latia Vanhoose|   OOP|7741757|   66|Loris Crossett_Na...|\n",
      "| 28|  Male|Latia Vanhoose|   DSA|7792270|   37|Eda Neathery_Donn...|\n",
      "| 28|  Male|Latia Vanhoose|   DSA|9442974|   29|Jc Andrepont_Cele...|\n",
      "| 28|Female|Latia Vanhoose| Cloud|9471888|   56|Naoma Fritts_Kena...|\n",
      "+---+------+--------------+------+-------+-----+--------------------+\n",
      "\n"
     ]
    }
   ],
   "source": [
    "df.filter(df.name.endswith(\"se\")).show()"
   ]
  },
  {
   "cell_type": "code",
   "execution_count": 15,
   "id": "7581c906-cd73-4dde-a585-f8e94ea0b49b",
   "metadata": {},
   "outputs": [
    {
     "name": "stdout",
     "output_type": "stream",
     "text": [
      "+---+------+--------------+------+-------+-----+--------------------+\n",
      "|age|gender|          name|course|   roll|marks|               email|\n",
      "+---+------+--------------+------+-------+-----+--------------------+\n",
      "| 28|Female|Latia Vanhoose|    DB| 122502|   27|Latia Vanhoose_Mi...|\n",
      "| 29|Female|Latia Vanhoose|   MVC| 132110|   55|Eda Neathery_Nico...|\n",
      "| 29|Female|Latia Vanhoose|    DB| 152159|   27|Claude Panos_Sant...|\n",
      "| 29|  Male|Loris Crossett|   MVC| 161771|   36|Mitzi Seldon_Jenn...|\n",
      "| 29|Female|Loris Crossett|    PF| 201487|   96|Elenore Choy_Lati...|\n",
      "| 28|Female|Loris Crossett|    PF| 332739|   62|Michelle Ruggiero...|\n",
      "| 29|  Male|Loris Crossett|    PF| 911593|   46|Gonzalo Ferebee_M...|\n",
      "| 28|Female|Loris Crossett|   DSA|1662549|   86|Paris Hutton_Lati...|\n",
      "| 29|  Male|Latia Vanhoose| Cloud|1832268|   60|Marylee Capasso_S...|\n",
      "| 29|  Male|Latia Vanhoose|   OOP|2372748|   94|Latia Vanhoose_La...|\n",
      "| 28|Female|Loris Crossett|   OOP|2691881|   29|Maybell Duguay_Ni...|\n",
      "| 28|  Male|Loris Crossett|   OOP|2852490|   25|Loris Crossett_Do...|\n",
      "| 29|Female|Latia Vanhoose|    PF|2861854|   42|Claude Panos_Nico...|\n",
      "| 29|  Male|Latia Vanhoose|   MVC|2992281|   90|Elenore Choy_Cord...|\n",
      "| 29|Female|Latia Vanhoose|   MVC|3091650|   30|Cordie Harnois_Se...|\n",
      "| 28|Female|Loris Crossett|   OOP|3502780|   30|Jenna Montague_Co...|\n",
      "| 28|Female|Loris Crossett|    PF|3531684|   84|Dustin Feagins_Ta...|\n",
      "| 29|  Male|Loris Crossett|   OOP|3592529|   80|Annika Hoffman_To...|\n",
      "| 29|Female|Latia Vanhoose|   OOP|3841395|   26|Kizzy Brenner_Eda...|\n",
      "| 28|Female|Loris Crossett|    PF|3861248|   94|Dustin Feagins_Ch...|\n",
      "+---+------+--------------+------+-------+-----+--------------------+\n",
      "only showing top 20 rows\n",
      "\n"
     ]
    }
   ],
   "source": [
    "df.filter(df.name.contains(\"se\")).show()"
   ]
  },
  {
   "cell_type": "code",
   "execution_count": 18,
   "id": "7f82b99d-81dd-4e48-8110-b7559ff3fcf3",
   "metadata": {},
   "outputs": [
    {
     "name": "stdout",
     "output_type": "stream",
     "text": [
      "+---+------+------------------+------+-------+-----+--------------------+\n",
      "|age|gender|              name|course|   roll|marks|               email|\n",
      "+---+------+------------------+------+-------+-----+--------------------+\n",
      "| 28|  Male|    Celeste Lollis|    PF|  21267|   45|Jeannetta Golden_...|\n",
      "| 28|  Male|    Celeste Lollis|   MVC|  81492|   64|Nicole Harwood_Cl...|\n",
      "| 28|Female|    Latia Vanhoose|    DB| 122502|   27|Latia Vanhoose_Mi...|\n",
      "| 29|Female|    Latia Vanhoose|   MVC| 132110|   55|Eda Neathery_Nico...|\n",
      "| 29|Female|    Latia Vanhoose|    DB| 152159|   27|Claude Panos_Sant...|\n",
      "| 29|  Male|    Loris Crossett|   MVC| 161771|   36|Mitzi Seldon_Jenn...|\n",
      "| 29|Female|    Loris Crossett|    PF| 201487|   96|Elenore Choy_Lati...|\n",
      "| 28|Female|    Dustin Feagins|   DSA| 291984|   82|Abram Nagao_Kena ...|\n",
      "| 28|Female|    Loris Crossett|    PF| 332739|   62|Michelle Ruggiero...|\n",
      "| 29|  Male|    Jalisa Swenson|    PF| 372873|   45|Ernest Rossbach_T...|\n",
      "| 28|Female|    Jalisa Swenson|   OOP| 431352|   25|Gonzalo Ferebee_J...|\n",
      "| 28|  Male|    Dustin Feagins|    PF| 461839|   51|Neda Briski_Eleno...|\n",
      "| 29|  Male|    Celeste Lollis|   DSA| 562065|   85|Jc Andrepont_Mela...|\n",
      "| 28|  Male|Priscila Tavernier|    PF| 642594|   27|Marylee Capasso_C...|\n",
      "| 28|Female|    Celeste Lollis|   DSA| 731879|   76|Hubert Oliveras_G...|\n",
      "| 29|  Male|    Loris Crossett|    PF| 911593|   46|Gonzalo Ferebee_M...|\n",
      "| 29|Female|    Dustin Feagins|   OOP|1161607|   37|Eda Neathery_Mary...|\n",
      "| 28|  Male|    Jalisa Swenson|    PF|1192555|   77|Marylee Capasso_C...|\n",
      "| 29|  Male|    Jalisa Swenson| Cloud|1261533|   70|Dustin Feagins_Ni...|\n",
      "| 29|  Male|    Jalisa Swenson|    PF|1332072|   88|Billi Clore_Kizzy...|\n",
      "+---+------+------------------+------+-------+-----+--------------------+\n",
      "only showing top 20 rows\n",
      "\n"
     ]
    }
   ],
   "source": [
    "df.filter(df.name.like('%s%e%')).show()"
   ]
  },
  {
   "cell_type": "code",
   "execution_count": null,
   "id": "0b88dc3a-a220-4db5-9273-10638d986a29",
   "metadata": {},
   "outputs": [],
   "source": []
  }
 ],
 "metadata": {
  "kernelspec": {
   "display_name": "Python 3 (ipykernel)",
   "language": "python",
   "name": "python3"
  },
  "language_info": {
   "codemirror_mode": {
    "name": "ipython",
    "version": 3
   },
   "file_extension": ".py",
   "mimetype": "text/x-python",
   "name": "python",
   "nbconvert_exporter": "python",
   "pygments_lexer": "ipython3",
   "version": "3.10.16"
  }
 },
 "nbformat": 4,
 "nbformat_minor": 5
}
