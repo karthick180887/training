{
 "cells": [
  {
   "cell_type": "code",
   "execution_count": 1,
   "id": "998366d2-c15a-4c35-888c-8c2bced7ef9f",
   "metadata": {},
   "outputs": [
    {
     "name": "stderr",
     "output_type": "stream",
     "text": [
      "25/09/16 07:29:35 WARN SparkSession: Using an existing Spark session; only runtime SQL configurations will take effect.\n"
     ]
    }
   ],
   "source": [
    "import pyspark.sql\n",
    "from pyspark.sql import SparkSession\n",
    "spark = SparkSession.builder.appName(\"Spark DataFrames\").getOrCreate()"
   ]
  },
  {
   "cell_type": "code",
   "execution_count": 2,
   "id": "9e8a8728-96aa-4848-8204-a5b2b6378047",
   "metadata": {},
   "outputs": [
    {
     "name": "stdout",
     "output_type": "stream",
     "text": [
      "+-------------+----------+-----+------+---+-----+\n",
      "|employee_name|department|state|salary|age|bonus|\n",
      "+-------------+----------+-----+------+---+-----+\n",
      "|        James|     Sales|   NY| 90000| 34|10000|\n",
      "|      Michael|     Sales|   NY| 86000| 56|20000|\n",
      "|       Robert|     Sales|   CA| 81000| 30|23000|\n",
      "|        Maria|   Finance|   CA| 90000| 24|23000|\n",
      "|        Raman|   Finance|   CA| 99000| 40|24000|\n",
      "|        Scott|   Finance|   NY| 83000| 36|19000|\n",
      "|          Jen|   Finance|   NY| 79000| 53|15000|\n",
      "|         Jeff| Marketing|   CA| 80000| 25|18000|\n",
      "|        Kumar| Marketing|   NY| 91000| 50|21000|\n",
      "+-------------+----------+-----+------+---+-----+\n",
      "\n"
     ]
    }
   ],
   "source": [
    "df = spark.read.options(header='True',inferSchema='True').csv(\"/home/iceberg/notebooks/Data/OfficeData.csv\")\n",
    "df.show()"
   ]
  },
  {
   "cell_type": "code",
   "execution_count": 3,
   "id": "8db6ee7e-92e4-4773-8ea2-7675d9e6a782",
   "metadata": {},
   "outputs": [
    {
     "name": "stdout",
     "output_type": "stream",
     "text": [
      "root\n",
      " |-- employee_name: string (nullable = true)\n",
      " |-- department: string (nullable = true)\n",
      " |-- state: string (nullable = true)\n",
      " |-- salary: integer (nullable = true)\n",
      " |-- age: integer (nullable = true)\n",
      " |-- bonus: integer (nullable = true)\n",
      "\n"
     ]
    }
   ],
   "source": [
    "df.printSchema()"
   ]
  },
  {
   "cell_type": "code",
   "execution_count": 5,
   "id": "23b0d6d5-d8c3-4e78-aabb-7e3cdfba2b7e",
   "metadata": {},
   "outputs": [],
   "source": [
    "from pyspark.sql.functions import col"
   ]
  },
  {
   "cell_type": "code",
   "execution_count": 6,
   "id": "660e6c7b-5038-4e1f-a388-cdd5e81cc217",
   "metadata": {},
   "outputs": [
    {
     "name": "stdout",
     "output_type": "stream",
     "text": [
      "+-------------+----------+-----+------+---+-----+------------+\n",
      "|employee_name|department|state|salary|age|bonus|Total Salary|\n",
      "+-------------+----------+-----+------+---+-----+------------+\n",
      "|        James|     Sales|   NY| 90000| 34|10000|       90100|\n",
      "|      Michael|     Sales|   NY| 86000| 56|20000|       86100|\n",
      "|       Robert|     Sales|   CA| 81000| 30|23000|       81100|\n",
      "|        Maria|   Finance|   CA| 90000| 24|23000|       90100|\n",
      "|        Raman|   Finance|   CA| 99000| 40|24000|       99100|\n",
      "|        Scott|   Finance|   NY| 83000| 36|19000|       83100|\n",
      "|          Jen|   Finance|   NY| 79000| 53|15000|       79100|\n",
      "|         Jeff| Marketing|   CA| 80000| 25|18000|       80100|\n",
      "|        Kumar| Marketing|   NY| 91000| 50|21000|       91100|\n",
      "+-------------+----------+-----+------+---+-----+------------+\n",
      "\n"
     ]
    }
   ],
   "source": [
    "df.withColumn(\"Total Salary\",col(\"salary\") + 100).show()"
   ]
  },
  {
   "cell_type": "code",
   "execution_count": 7,
   "id": "a1c4a12c-7383-4297-934f-dc78de307db5",
   "metadata": {},
   "outputs": [],
   "source": [
    "#User Defined Function"
   ]
  },
  {
   "cell_type": "code",
   "execution_count": 15,
   "id": "f32895c2-cf7f-4d24-ab29-42db4da9fa4e",
   "metadata": {},
   "outputs": [],
   "source": [
    "from pyspark.sql.functions import col,lit,udf\n",
    "from pyspark.sql.types import IntegerType"
   ]
  },
  {
   "cell_type": "code",
   "execution_count": 10,
   "id": "0589e17b-b854-4925-ac84-e7357a809cfa",
   "metadata": {},
   "outputs": [],
   "source": [
    "#create the normal python function to implement the logic"
   ]
  },
  {
   "cell_type": "code",
   "execution_count": 11,
   "id": "eaf97d59-fb50-4603-850d-5df4b3302571",
   "metadata": {},
   "outputs": [],
   "source": [
    "def total_salary(salary):\n",
    "    return salary+100"
   ]
  },
  {
   "cell_type": "code",
   "execution_count": 13,
   "id": "9a426040-92a7-422d-8166-ed7e7ffbe8e5",
   "metadata": {},
   "outputs": [
    {
     "name": "stdout",
     "output_type": "stream",
     "text": [
      "9100\n"
     ]
    }
   ],
   "source": [
    "#test the function\n",
    "print(total_salary(9000))"
   ]
  },
  {
   "cell_type": "code",
   "execution_count": 14,
   "id": "410af9f1-cc80-4fb7-81fd-affbe3d9695d",
   "metadata": {},
   "outputs": [],
   "source": [
    "#create your user defined function"
   ]
  },
  {
   "cell_type": "code",
   "execution_count": 17,
   "id": "a5c19077-dff0-4455-9014-392fbeba2fd1",
   "metadata": {},
   "outputs": [],
   "source": [
    "totalSalaryUDF = udf(lambda x: total_salay(x), IntegerType())"
   ]
  },
  {
   "cell_type": "code",
   "execution_count": 18,
   "id": "5f7490c4-91b8-40f7-9c50-7e761601430f",
   "metadata": {},
   "outputs": [],
   "source": [
    "#Pass you column as arguement"
   ]
  },
  {
   "cell_type": "code",
   "execution_count": null,
   "id": "19db304a-208e-4cb8-8595-90e6a852333c",
   "metadata": {},
   "outputs": [],
   "source": [
    "df.withColumn(\"total salary\", totalSalaryUD)"
   ]
  }
 ],
 "metadata": {
  "kernelspec": {
   "display_name": "Python 3 (ipykernel)",
   "language": "python",
   "name": "python3"
  },
  "language_info": {
   "codemirror_mode": {
    "name": "ipython",
    "version": 3
   },
   "file_extension": ".py",
   "mimetype": "text/x-python",
   "name": "python",
   "nbconvert_exporter": "python",
   "pygments_lexer": "ipython3",
   "version": "3.10.16"
  }
 },
 "nbformat": 4,
 "nbformat_minor": 5
}
