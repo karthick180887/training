{
 "cells": [
  {
   "cell_type": "code",
   "execution_count": 1,
   "id": "bae0c6e2-9987-4bce-9840-0b88f2974c37",
   "metadata": {},
   "outputs": [],
   "source": [
    "from pyspark.streaming import StreamingContext\n",
    "from pyspark import SparkConf, SparkContext"
   ]
  },
  {
   "cell_type": "code",
   "execution_count": 2,
   "id": "096f2611-a147-43da-9a0f-e2459851cc31",
   "metadata": {},
   "outputs": [
    {
     "name": "stderr",
     "output_type": "stream",
     "text": [
      "/opt/spark/python/pyspark/streaming/context.py:72: FutureWarning: DStream is deprecated as of Spark 3.4.0. Migrate to Structured Streaming.\n",
      "  warnings.warn(\n"
     ]
    },
    {
     "name": "stdout",
     "output_type": "stream",
     "text": [
      "-------------------------------------------\n",
      "Time: 2025-09-18 07:14:00\n",
      "-------------------------------------------\n",
      "\n"
     ]
    }
   ],
   "source": [
    "sc = SparkContext.getOrCreate()\n",
    "ssc = StreamingContext(sc, 30)"
   ]
  },
  {
   "cell_type": "code",
   "execution_count": 3,
   "id": "35324706-fa61-410c-8c6c-d60e4078135d",
   "metadata": {},
   "outputs": [],
   "source": [
    "rdd = ssc.textFileStream(\"/home/iceberg/notebooks/data/\")"
   ]
  },
  {
   "cell_type": "code",
   "execution_count": 4,
   "id": "f22d9f71-7ba8-411a-ba42-490bc5f4a0a4",
   "metadata": {},
   "outputs": [],
   "source": [
    "rdd = rdd.map(lambda x: (x,1))\n",
    "rdd = rdd.reduceByKey(lambda x,y: x+y)"
   ]
  },
  {
   "cell_type": "code",
   "execution_count": 5,
   "id": "16a20c65-e118-4ad6-a80b-f75f1e52e4f7",
   "metadata": {},
   "outputs": [],
   "source": [
    "rdd.pprint()"
   ]
  },
  {
   "cell_type": "code",
   "execution_count": null,
   "id": "c73de148-8e7e-4d88-bbbe-82d5b233913e",
   "metadata": {},
   "outputs": [
    {
     "name": "stderr",
     "output_type": "stream",
     "text": [
      "                                                                                "
     ]
    }
   ],
   "source": [
    "ssc.start()\n",
    "ssc.awaitTerminationOrTimeout(1000000)"
   ]
  },
  {
   "cell_type": "code",
   "execution_count": null,
   "id": "3b1223e2-2bb2-4290-aaf5-32ac19f96130",
   "metadata": {},
   "outputs": [],
   "source": []
  }
 ],
 "metadata": {
  "kernelspec": {
   "display_name": "Python 3 (ipykernel)",
   "language": "python",
   "name": "python3"
  },
  "language_info": {
   "codemirror_mode": {
    "name": "ipython",
    "version": 3
   },
   "file_extension": ".py",
   "mimetype": "text/x-python",
   "name": "python",
   "nbconvert_exporter": "python",
   "pygments_lexer": "ipython3",
   "version": "3.10.16"
  }
 },
 "nbformat": 4,
 "nbformat_minor": 5
}
